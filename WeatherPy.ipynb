{
 "cells": [
  {
   "cell_type": "markdown",
   "metadata": {},
   "source": [
    "# WeatherPy\n",
    "----\n",
    "\n",
    "#### Note\n",
    "* Instructions have been included for each segment. You do not have to follow them exactly, but they are included to help you think through the steps."
   ]
  },
  {
   "cell_type": "code",
   "execution_count": 44,
   "metadata": {
    "scrolled": true
   },
   "outputs": [],
   "source": [
    "import pandas as pd\n",
    "import numpy as np\n",
    "import math as math\n",
    "import matplotlib.pyplot as plt\n",
    "from scipy.stats import linregress\n",
    "import time\n",
    "import requests\n",
    "import json\n",
    "import random\n",
    "\n",
    "from citipy import citipy\n",
    "\n",
    "from api_keys import weather_api_key\n",
    "\n",
    "base_url = \"http://api.openweathermap.org/data/2.5/weather?q=\""
   ]
  },
  {
   "cell_type": "markdown",
   "metadata": {},
   "source": [
    "## Generate Cities List"
   ]
  },
  {
   "cell_type": "code",
   "execution_count": 5,
   "metadata": {},
   "outputs": [
    {
     "name": "stdout",
     "output_type": "stream",
     "text": [
      "10\n"
     ]
    }
   ],
   "source": [
    "coordinates = []\n",
    "cities = []\n",
    "\n",
    "longitude = np.random.uniform(-180, 180, size=10)\n",
    "latitude = np.random.uniform(-90, 90, size=10)\n",
    "\n",
    "coordinates = zip(latitude, longitude)\n",
    "\n",
    "for coordinate in coordinates:\n",
    "    city_coordinates = citipy.nearest_city(coordinate[0],coordinate[1]).city_name\n",
    "    if city_coordinates not in cities:\n",
    "        cities.append(city_coordinates)\n",
    "        \n",
    "print(len(cities))"
   ]
  },
  {
   "cell_type": "markdown",
   "metadata": {},
   "source": [
    "### Perform API Calls\n",
    "* Perform a weather check on each city using a series of successive API calls.\n",
    "* Include a print log of each city as it'sbeing processed (with the city number and city name).\n"
   ]
  },
  {
   "cell_type": "code",
   "execution_count": 26,
   "metadata": {
    "scrolled": true
   },
   "outputs": [
    {
     "name": "stdout",
     "output_type": "stream",
     "text": [
      "-----------------------------\n",
      "Beginning Data Retrieval\n",
      "-----------------------------\n",
      "Processing Record 1 of Set 1 | pacific grove\n",
      "Processing Record 2 of Set 1 | zaozerne\n",
      "Processing Record 3 of Set 1 | cape town\n",
      "Processing Record 4 of Set 1 | kargasok\n",
      "Processing Record 5 of Set 1 | bluff\n",
      "Processing Record 6 of Set 1 | nikolskoye\n",
      "Processing Record 7 of Set 1 | loreto\n",
      "Processing Record 8 of Set 1 | east london\n",
      "Processing Record 9 of Set 1 | ushuaia\n",
      "Processing Record 10 of Set 1 | nianzishan\n",
      "-----------------------------\n",
      "Data Retrieval Complete\n",
      "-----------------------------\n"
     ]
    }
   ],
   "source": [
    "# build the endpoint, read the documentation, figure out the varaibles to pull out, check out weatehr related activities, copy the endpoint and paste it into googlechrome to check if it works and how the json object appears\n",
    "# don't forget the try and accept to make sure that if a city doesn't show up it doesn't break\n",
    "# consider a pause at the end sleep.01 or 3\n",
    "# save the dataframe to a csv right away, keep in mind the data will all change\n",
    "\n",
    "record_count = 1\n",
    "set_count = 1\n",
    "\n",
    "city_name = []\n",
    "lat = []\n",
    "lng = []\n",
    "max_temp = []\n",
    "humidity = []\n",
    "clouds = []\n",
    "wind_speed = []\n",
    "country = []\n",
    "date = []\n",
    "\n",
    "print(\"-----------------------------\")\n",
    "print(\"Beginning Data Retrieval\")\n",
    "print(\"-----------------------------\")\n",
    "\n",
    "for city in cities:\n",
    "    \n",
    "    time.sleep(1.25)\n",
    "    \n",
    "    query_url = f\"{base_url}{city}&units=imperial&appid={weather_api_key}\"\n",
    "\n",
    "    weather_response = requests.get(query_url)\n",
    "    weather_json = weather_response.json()\n",
    "    \n",
    "    try:\n",
    "        print(\"Processing Record \" + str(record_count) + \" of Set \" + str(set_count) + \" | \" + city)\n",
    "        \n",
    "        record_count = record_count + 1\n",
    "        set_count = set_count + math.floor((set_count/50))\n",
    "        \n",
    "        city_name.append(weather_json[\"name\"])\n",
    "        lat.append(weather_json[\"coord\"][\"lat\"])\n",
    "        lng.append(weather_json[\"coord\"][\"lon\"])\n",
    "        max_temp.append(weather_json[\"main\"][\"temp_max\"])\n",
    "        humidity.append(weather_json[\"main\"][\"humidity\"])\n",
    "        clouds.append(weather_json[\"clouds\"][\"all\"])\n",
    "        wind_speed.append(weather_json[\"wind\"][\"speed\"])\n",
    "        country.append(weather_json[\"sys\"][\"country\"])\n",
    "        date.append(weather_json[\"dt\"])\n",
    "        \n",
    "    except:\n",
    "        print(\"The city of \" + city + \" not found. Skipping...\")\n",
    "        \n",
    "print(\"-----------------------------\")\n",
    "print(\"Data Retrieval Complete\")\n",
    "print(\"-----------------------------\")"
   ]
  },
  {
   "cell_type": "markdown",
   "metadata": {},
   "source": [
    "### Convert Raw Data to DataFrame\n",
    "* Export the city data into a .csv.\n",
    "* Display the DataFrame"
   ]
  },
  {
   "cell_type": "code",
   "execution_count": 28,
   "metadata": {},
   "outputs": [
    {
     "data": {
      "text/html": [
       "<div>\n",
       "<style scoped>\n",
       "    .dataframe tbody tr th:only-of-type {\n",
       "        vertical-align: middle;\n",
       "    }\n",
       "\n",
       "    .dataframe tbody tr th {\n",
       "        vertical-align: top;\n",
       "    }\n",
       "\n",
       "    .dataframe thead th {\n",
       "        text-align: right;\n",
       "    }\n",
       "</style>\n",
       "<table border=\"1\" class=\"dataframe\">\n",
       "  <thead>\n",
       "    <tr style=\"text-align: right;\">\n",
       "      <th></th>\n",
       "      <th>City</th>\n",
       "      <th>Latitude</th>\n",
       "      <th>Longitude</th>\n",
       "      <th>Max Temperature</th>\n",
       "      <th>Humidity</th>\n",
       "      <th>Cloudiness</th>\n",
       "      <th>Wind Speed</th>\n",
       "      <th>Country</th>\n",
       "      <th>Date</th>\n",
       "    </tr>\n",
       "  </thead>\n",
       "  <tbody>\n",
       "    <tr>\n",
       "      <th>0</th>\n",
       "      <td>Pacific Grove</td>\n",
       "      <td>36.62</td>\n",
       "      <td>-121.92</td>\n",
       "      <td>54.00</td>\n",
       "      <td>100</td>\n",
       "      <td>90</td>\n",
       "      <td>4.32</td>\n",
       "      <td>US</td>\n",
       "      <td>1605342024</td>\n",
       "    </tr>\n",
       "    <tr>\n",
       "      <th>1</th>\n",
       "      <td>Zaozyornoye</td>\n",
       "      <td>45.16</td>\n",
       "      <td>33.28</td>\n",
       "      <td>51.31</td>\n",
       "      <td>70</td>\n",
       "      <td>68</td>\n",
       "      <td>11.34</td>\n",
       "      <td>UA</td>\n",
       "      <td>1605342219</td>\n",
       "    </tr>\n",
       "    <tr>\n",
       "      <th>2</th>\n",
       "      <td>Cape Town</td>\n",
       "      <td>-33.93</td>\n",
       "      <td>18.42</td>\n",
       "      <td>69.01</td>\n",
       "      <td>55</td>\n",
       "      <td>75</td>\n",
       "      <td>14.99</td>\n",
       "      <td>ZA</td>\n",
       "      <td>1605342026</td>\n",
       "    </tr>\n",
       "    <tr>\n",
       "      <th>3</th>\n",
       "      <td>Kargasok</td>\n",
       "      <td>59.06</td>\n",
       "      <td>80.86</td>\n",
       "      <td>20.26</td>\n",
       "      <td>96</td>\n",
       "      <td>73</td>\n",
       "      <td>6.13</td>\n",
       "      <td>RU</td>\n",
       "      <td>1605342221</td>\n",
       "    </tr>\n",
       "    <tr>\n",
       "      <th>4</th>\n",
       "      <td>Bluff</td>\n",
       "      <td>-46.60</td>\n",
       "      <td>168.33</td>\n",
       "      <td>59.00</td>\n",
       "      <td>84</td>\n",
       "      <td>100</td>\n",
       "      <td>1.99</td>\n",
       "      <td>NZ</td>\n",
       "      <td>1605342223</td>\n",
       "    </tr>\n",
       "    <tr>\n",
       "      <th>5</th>\n",
       "      <td>Nikolskoye</td>\n",
       "      <td>59.70</td>\n",
       "      <td>30.79</td>\n",
       "      <td>34.00</td>\n",
       "      <td>86</td>\n",
       "      <td>90</td>\n",
       "      <td>6.71</td>\n",
       "      <td>RU</td>\n",
       "      <td>1605342224</td>\n",
       "    </tr>\n",
       "    <tr>\n",
       "      <th>6</th>\n",
       "      <td>Loreto</td>\n",
       "      <td>22.27</td>\n",
       "      <td>-101.97</td>\n",
       "      <td>53.98</td>\n",
       "      <td>55</td>\n",
       "      <td>0</td>\n",
       "      <td>2.42</td>\n",
       "      <td>MX</td>\n",
       "      <td>1605342226</td>\n",
       "    </tr>\n",
       "    <tr>\n",
       "      <th>7</th>\n",
       "      <td>East London</td>\n",
       "      <td>-33.02</td>\n",
       "      <td>27.91</td>\n",
       "      <td>77.00</td>\n",
       "      <td>53</td>\n",
       "      <td>0</td>\n",
       "      <td>8.05</td>\n",
       "      <td>ZA</td>\n",
       "      <td>1605342227</td>\n",
       "    </tr>\n",
       "    <tr>\n",
       "      <th>8</th>\n",
       "      <td>Ushuaia</td>\n",
       "      <td>-54.80</td>\n",
       "      <td>-68.30</td>\n",
       "      <td>35.60</td>\n",
       "      <td>93</td>\n",
       "      <td>75</td>\n",
       "      <td>29.97</td>\n",
       "      <td>AR</td>\n",
       "      <td>1605342048</td>\n",
       "    </tr>\n",
       "    <tr>\n",
       "      <th>9</th>\n",
       "      <td>Nianzishan</td>\n",
       "      <td>47.52</td>\n",
       "      <td>122.88</td>\n",
       "      <td>38.59</td>\n",
       "      <td>64</td>\n",
       "      <td>0</td>\n",
       "      <td>3.51</td>\n",
       "      <td>CN</td>\n",
       "      <td>1605342230</td>\n",
       "    </tr>\n",
       "  </tbody>\n",
       "</table>\n",
       "</div>"
      ],
      "text/plain": [
       "            City  Latitude  Longitude  Max Temperature  Humidity  Cloudiness  \\\n",
       "0  Pacific Grove     36.62    -121.92            54.00       100          90   \n",
       "1    Zaozyornoye     45.16      33.28            51.31        70          68   \n",
       "2      Cape Town    -33.93      18.42            69.01        55          75   \n",
       "3       Kargasok     59.06      80.86            20.26        96          73   \n",
       "4          Bluff    -46.60     168.33            59.00        84         100   \n",
       "5     Nikolskoye     59.70      30.79            34.00        86          90   \n",
       "6         Loreto     22.27    -101.97            53.98        55           0   \n",
       "7    East London    -33.02      27.91            77.00        53           0   \n",
       "8        Ushuaia    -54.80     -68.30            35.60        93          75   \n",
       "9     Nianzishan     47.52     122.88            38.59        64           0   \n",
       "\n",
       "   Wind Speed Country        Date  \n",
       "0        4.32      US  1605342024  \n",
       "1       11.34      UA  1605342219  \n",
       "2       14.99      ZA  1605342026  \n",
       "3        6.13      RU  1605342221  \n",
       "4        1.99      NZ  1605342223  \n",
       "5        6.71      RU  1605342224  \n",
       "6        2.42      MX  1605342226  \n",
       "7        8.05      ZA  1605342227  \n",
       "8       29.97      AR  1605342048  \n",
       "9        3.51      CN  1605342230  "
      ]
     },
     "execution_count": 28,
     "metadata": {},
     "output_type": "execute_result"
    }
   ],
   "source": [
    "weather_df = pd.DataFrame({'City':city_name, 'Latitude':lat, 'Longitude': lng, 'Max Temperature': max_temp,\n",
    "                          'Humidity':humidity, 'Cloudiness': clouds, 'Wind Speed': wind_speed, 'Country':country, \"Date\":date})\n",
    "\n",
    "weather_df[[\"Humidity\", \"Cloudiness\"]] = weather_df[[\"Humidity\", \"Cloudiness\"]].apply(pd.to_numeric)\n",
    "\n",
    "weather_df.to_csv(r'C:\\Users\\kylie\\OneDrive\\Desktop\\uofm-stp-data-pt-09-2020-u-c\\02-Homework\\06-Python-APIs\\python-api-challenge\\weather_df.csv')\n",
    "\n",
    "weather_df"
   ]
  },
  {
   "cell_type": "code",
   "execution_count": 29,
   "metadata": {},
   "outputs": [
    {
     "data": {
      "text/html": [
       "<div>\n",
       "<style scoped>\n",
       "    .dataframe tbody tr th:only-of-type {\n",
       "        vertical-align: middle;\n",
       "    }\n",
       "\n",
       "    .dataframe tbody tr th {\n",
       "        vertical-align: top;\n",
       "    }\n",
       "\n",
       "    .dataframe thead th {\n",
       "        text-align: right;\n",
       "    }\n",
       "</style>\n",
       "<table border=\"1\" class=\"dataframe\">\n",
       "  <thead>\n",
       "    <tr style=\"text-align: right;\">\n",
       "      <th></th>\n",
       "      <th>Latitude</th>\n",
       "      <th>Longitude</th>\n",
       "      <th>Max Temperature</th>\n",
       "      <th>Humidity</th>\n",
       "      <th>Cloudiness</th>\n",
       "      <th>Wind Speed</th>\n",
       "      <th>Date</th>\n",
       "    </tr>\n",
       "  </thead>\n",
       "  <tbody>\n",
       "    <tr>\n",
       "      <th>count</th>\n",
       "      <td>10.000000</td>\n",
       "      <td>10.000000</td>\n",
       "      <td>10.00000</td>\n",
       "      <td>10.000000</td>\n",
       "      <td>10.000000</td>\n",
       "      <td>10.000000</td>\n",
       "      <td>1.000000e+01</td>\n",
       "    </tr>\n",
       "    <tr>\n",
       "      <th>mean</th>\n",
       "      <td>10.198000</td>\n",
       "      <td>19.028000</td>\n",
       "      <td>49.27500</td>\n",
       "      <td>75.600000</td>\n",
       "      <td>57.100000</td>\n",
       "      <td>8.943000</td>\n",
       "      <td>1.605342e+09</td>\n",
       "    </tr>\n",
       "    <tr>\n",
       "      <th>std</th>\n",
       "      <td>46.622479</td>\n",
       "      <td>93.958194</td>\n",
       "      <td>17.24882</td>\n",
       "      <td>18.313322</td>\n",
       "      <td>40.550243</td>\n",
       "      <td>8.432257</td>\n",
       "      <td>9.282337e+01</td>\n",
       "    </tr>\n",
       "    <tr>\n",
       "      <th>min</th>\n",
       "      <td>-54.800000</td>\n",
       "      <td>-121.920000</td>\n",
       "      <td>20.26000</td>\n",
       "      <td>53.000000</td>\n",
       "      <td>0.000000</td>\n",
       "      <td>1.990000</td>\n",
       "      <td>1.605342e+09</td>\n",
       "    </tr>\n",
       "    <tr>\n",
       "      <th>25%</th>\n",
       "      <td>-33.702500</td>\n",
       "      <td>-46.620000</td>\n",
       "      <td>36.34750</td>\n",
       "      <td>57.250000</td>\n",
       "      <td>17.000000</td>\n",
       "      <td>3.712500</td>\n",
       "      <td>1.605342e+09</td>\n",
       "    </tr>\n",
       "    <tr>\n",
       "      <th>50%</th>\n",
       "      <td>29.445000</td>\n",
       "      <td>29.350000</td>\n",
       "      <td>52.64500</td>\n",
       "      <td>77.000000</td>\n",
       "      <td>74.000000</td>\n",
       "      <td>6.420000</td>\n",
       "      <td>1.605342e+09</td>\n",
       "    </tr>\n",
       "    <tr>\n",
       "      <th>75%</th>\n",
       "      <td>46.930000</td>\n",
       "      <td>68.965000</td>\n",
       "      <td>57.75000</td>\n",
       "      <td>91.250000</td>\n",
       "      <td>86.250000</td>\n",
       "      <td>10.517500</td>\n",
       "      <td>1.605342e+09</td>\n",
       "    </tr>\n",
       "    <tr>\n",
       "      <th>max</th>\n",
       "      <td>59.700000</td>\n",
       "      <td>168.330000</td>\n",
       "      <td>77.00000</td>\n",
       "      <td>100.000000</td>\n",
       "      <td>100.000000</td>\n",
       "      <td>29.970000</td>\n",
       "      <td>1.605342e+09</td>\n",
       "    </tr>\n",
       "  </tbody>\n",
       "</table>\n",
       "</div>"
      ],
      "text/plain": [
       "        Latitude   Longitude  Max Temperature    Humidity  Cloudiness  \\\n",
       "count  10.000000   10.000000         10.00000   10.000000   10.000000   \n",
       "mean   10.198000   19.028000         49.27500   75.600000   57.100000   \n",
       "std    46.622479   93.958194         17.24882   18.313322   40.550243   \n",
       "min   -54.800000 -121.920000         20.26000   53.000000    0.000000   \n",
       "25%   -33.702500  -46.620000         36.34750   57.250000   17.000000   \n",
       "50%    29.445000   29.350000         52.64500   77.000000   74.000000   \n",
       "75%    46.930000   68.965000         57.75000   91.250000   86.250000   \n",
       "max    59.700000  168.330000         77.00000  100.000000  100.000000   \n",
       "\n",
       "       Wind Speed          Date  \n",
       "count   10.000000  1.000000e+01  \n",
       "mean     8.943000  1.605342e+09  \n",
       "std      8.432257  9.282337e+01  \n",
       "min      1.990000  1.605342e+09  \n",
       "25%      3.712500  1.605342e+09  \n",
       "50%      6.420000  1.605342e+09  \n",
       "75%     10.517500  1.605342e+09  \n",
       "max     29.970000  1.605342e+09  "
      ]
     },
     "execution_count": 29,
     "metadata": {},
     "output_type": "execute_result"
    }
   ],
   "source": [
    "weather_df.describe()"
   ]
  },
  {
   "cell_type": "markdown",
   "metadata": {},
   "source": [
    "## Inspect the data and remove the cities where the humidity > 100%.\n",
    "----\n",
    "Skip this step if there are no cities that have humidity > 100%. "
   ]
  },
  {
   "cell_type": "code",
   "execution_count": 33,
   "metadata": {},
   "outputs": [
    {
     "data": {
      "text/html": [
       "<div>\n",
       "<style scoped>\n",
       "    .dataframe tbody tr th:only-of-type {\n",
       "        vertical-align: middle;\n",
       "    }\n",
       "\n",
       "    .dataframe tbody tr th {\n",
       "        vertical-align: top;\n",
       "    }\n",
       "\n",
       "    .dataframe thead th {\n",
       "        text-align: right;\n",
       "    }\n",
       "</style>\n",
       "<table border=\"1\" class=\"dataframe\">\n",
       "  <thead>\n",
       "    <tr style=\"text-align: right;\">\n",
       "      <th></th>\n",
       "      <th>City</th>\n",
       "      <th>Latitude</th>\n",
       "      <th>Longitude</th>\n",
       "      <th>Max Temperature</th>\n",
       "      <th>Humidity</th>\n",
       "      <th>Cloudiness</th>\n",
       "      <th>Wind Speed</th>\n",
       "      <th>Country</th>\n",
       "      <th>Date</th>\n",
       "    </tr>\n",
       "  </thead>\n",
       "  <tbody>\n",
       "  </tbody>\n",
       "</table>\n",
       "</div>"
      ],
      "text/plain": [
       "Empty DataFrame\n",
       "Columns: [City, Latitude, Longitude, Max Temperature, Humidity, Cloudiness, Wind Speed, Country, Date]\n",
       "Index: []"
      ]
     },
     "execution_count": 33,
     "metadata": {},
     "output_type": "execute_result"
    }
   ],
   "source": [
    "high_humidity = weather_df.loc[weather_df[\"Humidity\"] > 100]\n",
    "high_humidity"
   ]
  },
  {
   "cell_type": "code",
   "execution_count": 35,
   "metadata": {},
   "outputs": [],
   "source": [
    "#  Get the indices of cities that have humidity over 100%.\n"
   ]
  },
  {
   "cell_type": "code",
   "execution_count": 34,
   "metadata": {},
   "outputs": [],
   "source": [
    "# Make a new DataFrame equal to the city data to drop all humidity outliers by index.\n",
    "# Passing \"inplace=False\" will make a copy of the city_data DataFrame, which we call \"clean_city_data\".\n"
   ]
  },
  {
   "cell_type": "markdown",
   "metadata": {},
   "source": [
    "## Plotting the Data\n",
    "* Use proper labeling of the plots using plot titles (including date of analysis) and axes labels.\n",
    "* Save the plotted figures as .pngs."
   ]
  },
  {
   "cell_type": "markdown",
   "metadata": {},
   "source": [
    "## Latitude vs. Temperature Plot"
   ]
  },
  {
   "cell_type": "code",
   "execution_count": 64,
   "metadata": {
    "scrolled": true
   },
   "outputs": [
    {
     "data": {
      "image/png": "[encoded data removed]",
      "text/plain": [
       "<Figure size 432x288 with 1 Axes>"
      ]
     },
     "metadata": {
      "needs_background": "light"
     },
     "output_type": "display_data"
    }
   ],
   "source": [
    "plt.scatter(weather_df[\"Latitude\"], weather_df[\"Max Temperature\"], color=\"lightcoral\", edgecolor=\"maroon\", alpha=0.75)\n",
    "plt.title(\"City Latitude vs. Max Temperature (11/16/20)\")\n",
    "plt.xlabel(\"Latitude\")\n",
    "plt.ylabel(\"Max Temperature (F)\")\n",
    "plt.grid()\n",
    "plt.savefig(\"City Latitude vs Max Temperature.png\")\n",
    "plt.show()"
   ]
  },
  {
   "cell_type": "markdown",
   "metadata": {},
   "source": [
    "## Latitude vs. Humidity Plot"
   ]
  },
  {
   "cell_type": "code",
   "execution_count": 31,
   "metadata": {},
   "outputs": [
    {
     "data": {
      "image/png": "[encoded data removed]",
      "text/plain": [
       "<Figure size 432x288 with 1 Axes>"
      ]
     },
     "metadata": {
      "needs_background": "light"
     },
     "output_type": "display_data"
    }
   ],
   "source": [
    "plt.scatter(weather_df[\"Latitude\"], weather_df[\"Humidity\"], color=\"cadetblue\", edgecolor=\"darkslategray\", alpha=0.75)\n",
    "plt.title(\"City Latitude vs. Humidity (11/16/20)\")\n",
    "plt.xlabel(\"Latitude\")\n",
    "plt.ylabel(\"Humidity (%)\")\n",
    "plt.grid()\n",
    "plt.savefig(\"City Latitude vs Humidity.png\")\n",
    "plt.show()"
   ]
  },
  {
   "cell_type": "markdown",
   "metadata": {},
   "source": [
    "## Latitude vs. Cloudiness Plot"
   ]
  },
  {
   "cell_type": "code",
   "execution_count": 32,
   "metadata": {},
   "outputs": [
    {
     "data": {
      "image/png": "[encoded data removed]",
      "text/plain": [
       "<Figure size 432x288 with 1 Axes>"
      ]
     },
     "metadata": {
      "needs_background": "light"
     },
     "output_type": "display_data"
    }
   ],
   "source": [
    "plt.scatter(weather_df[\"Latitude\"], weather_df[\"Cloudiness\"], color=\"teal\", edgecolor=\"darkblue\", alpha=0.75)\n",
    "plt.title(\"City Latitude vs. Cloudiness (11/16/20)\")\n",
    "plt.xlabel(\"Latitude\")\n",
    "plt.ylabel(\"Cloudiness (%)\")\n",
    "plt.grid()\n",
    "plt.savefig(\"City Latitude vs Cloudiness.png\")\n",
    "plt.show()"
   ]
  },
  {
   "cell_type": "markdown",
   "metadata": {},
   "source": [
    "## Latitude vs. Wind Speed Plot"
   ]
  },
  {
   "cell_type": "code",
   "execution_count": 25,
   "metadata": {},
   "outputs": [
    {
     "data": {
      "image/png": "[encoded data removed]",
      "text/plain": [
       "<Figure size 432x288 with 1 Axes>"
      ]
     },
     "metadata": {
      "needs_background": "light"
     },
     "output_type": "display_data"
    }
   ],
   "source": [
    "plt.scatter(weather_df[\"Latitude\"], weather_df[\"Wind Speed\"], color=\"forestgreen\", edgecolor=\"darkgreen\", alpha=0.75)\n",
    "plt.title(\"City Latitude vs. Wind Speed (11/16/20)\")\n",
    "plt.xlabel(\"Latitude\")\n",
    "plt.ylabel(\"Wind Speed (mph)\")\n",
    "plt.grid()\n",
    "plt.savefig(\"City Latitude vs Wind Speed.png\")\n",
    "plt.show()"
   ]
  },
  {
   "cell_type": "markdown",
   "metadata": {},
   "source": [
    "## Linear Regression"
   ]
  },
  {
   "cell_type": "code",
   "execution_count": 42,
   "metadata": {},
   "outputs": [],
   "source": [
    "# Dataframe for Northern Hemisphere (greater than or equal to 0 degrees latitude)\n",
    "north_df = weather_df.loc[weather_df[\"Latitude\"] >= 0]\n",
    "\n",
    "# Dataframe for Southern Hemisphere (less than 0 degrees latitude)\n",
    "south_df = weather_df.loc[weather_df[\"Latitude\"] < 0]"
   ]
  },
  {
   "cell_type": "markdown",
   "metadata": {},
   "source": [
    "####  Northern Hemisphere - Max Temp vs. Latitude Linear Regression"
   ]
  },
  {
   "cell_type": "code",
   "execution_count": 78,
   "metadata": {},
   "outputs": [
    {
     "name": "stdout",
     "output_type": "stream",
     "text": [
      "The r value is: -0.8334088992855847\n"
     ]
    },
    {
     "data": {
      "image/png": "[encoded data removed]",
      "text/plain": [
       "<Figure size 432x288 with 1 Axes>"
      ]
     },
     "metadata": {
      "needs_background": "light"
     },
     "output_type": "display_data"
    }
   ],
   "source": [
    "plt.scatter(north_df[\"Latitude\"], north_df[\"Max Temperature\"], color=\"lightcoral\", edgecolor=\"maroon\", alpha=0.75)\n",
    "\n",
    "x_values = north_df[\"Latitude\"]\n",
    "y_values = north_df[\"Max Temperature\"]\n",
    "\n",
    "(slope, intercept, rvalue, pvalue, stderr) = linregress(x_values, y_values)\n",
    "regress_values = x_values * slope + intercept\n",
    "\n",
    "line_eq = \"y = \" + str(round(slope,2)) + \"x + \" + str(round(intercept,2))\n",
    "plt.plot(x_values,regress_values,\"r-\",color=\"maroon\")\n",
    "plt.annotate(line_eq,(45,25),fontsize=15,color=\"maroon\")\n",
    "\n",
    "plt.title(\"Northern Hemisphere \\n City Latitude vs. Max Temperature (11/16/20)\")\n",
    "plt.xlabel(\"Latitude\")\n",
    "plt.ylabel(\"Max Temperature (F)\")\n",
    "\n",
    "print(\"The r value is: \" + str(rvalue))\n",
    "plt.savefig(\"Northern Hemisphere City Latitude vs Max Temperature.png\")\n",
    "plt.show()"
   ]
  },
  {
   "cell_type": "markdown",
   "metadata": {},
   "source": [
    "####  Southern Hemisphere - Max Temp vs. Latitude Linear Regression"
   ]
  },
  {
   "cell_type": "code",
   "execution_count": 79,
   "metadata": {},
   "outputs": [
    {
     "name": "stdout",
     "output_type": "stream",
     "text": [
      "The r value is: 0.9592813409667392\n"
     ]
    },
    {
     "data": {
      "image/png": "[encoded data removed]",
      "text/plain": [
       "<Figure size 432x288 with 1 Axes>"
      ]
     },
     "metadata": {
      "needs_background": "light"
     },
     "output_type": "display_data"
    }
   ],
   "source": [
    "plt.scatter(south_df[\"Latitude\"], south_df[\"Max Temperature\"], color=\"lightcoral\", edgecolor=\"maroon\", alpha=0.75)\n",
    "\n",
    "x_values = south_df[\"Latitude\"]\n",
    "y_values = south_df[\"Max Temperature\"]\n",
    "\n",
    "(slope, intercept, rvalue, pvalue, stderr) = linregress(x_values, y_values)\n",
    "regress_values = x_values * slope + intercept\n",
    "\n",
    "line_eq = \"y = \" + str(round(slope,2)) + \"x + \" + str(round(intercept,2))\n",
    "plt.plot(x_values,regress_values,\"r-\",color=\"maroon\")\n",
    "plt.annotate(line_eq,(-45,40),fontsize=15,color=\"maroon\")\n",
    "\n",
    "plt.title(\"Southern Hemisphere \\n City Latitude vs. Max Temperature (11/16/20)\")\n",
    "plt.xlabel(\"Latitude\")\n",
    "plt.ylabel(\"Max Temperature (F)\")\n",
    "\n",
    "print(\"The r value is: \" + str(rvalue))\n",
    "plt.savefig(\"Southern Hemisphere City Latitude vs Max Temperature.png\")\n",
    "plt.show()"
   ]
  },
  {
   "cell_type": "markdown",
   "metadata": {},
   "source": [
    "####  Northern Hemisphere - Humidity (%) vs. Latitude Linear Regression"
   ]
  },
  {
   "cell_type": "code",
   "execution_count": 80,
   "metadata": {},
   "outputs": [
    {
     "name": "stdout",
     "output_type": "stream",
     "text": [
      "The r value is: 0.520131032604124\n"
     ]
    },
    {
     "data": {
      "image/png": "[encoded data removed]",
      "text/plain": [
       "<Figure size 432x288 with 1 Axes>"
      ]
     },
     "metadata": {
      "needs_background": "light"
     },
     "output_type": "display_data"
    }
   ],
   "source": [
    "plt.scatter(north_df[\"Latitude\"], north_df[\"Humidity\"], color=\"cadetblue\", edgecolor=\"darkslategray\", alpha=0.75)\n",
    "\n",
    "x_values = north_df[\"Latitude\"]\n",
    "y_values = north_df[\"Humidity\"]\n",
    "\n",
    "(slope, intercept, rvalue, pvalue, stderr) = linregress(x_values, y_values)\n",
    "regress_values = x_values * slope + intercept\n",
    "\n",
    "line_eq = \"y = \" + str(round(slope,2)) + \"x + \" + str(round(intercept,2))\n",
    "plt.plot(x_values,regress_values,\"r-\",color=\"darkslategray\")\n",
    "plt.annotate(line_eq,(25,90),fontsize=15,color=\"darkslategray\")\n",
    "\n",
    "plt.title(\"Northern Hemisphere \\n City Latitude vs. Humidity (11/16/20)\")\n",
    "plt.xlabel(\"Latitude\")\n",
    "plt.ylabel(\"Humidity (%)\")\n",
    "\n",
    "print(\"The r value is: \" + str(rvalue))\n",
    "plt.savefig(\"Northern Hemisphere City Latitude vs Humidity.png\")\n",
    "plt.show()"
   ]
  },
  {
   "cell_type": "markdown",
   "metadata": {},
   "source": [
    "####  Southern Hemisphere - Humidity (%) vs. Latitude Linear Regression"
   ]
  },
  {
   "cell_type": "code",
   "execution_count": 81,
   "metadata": {},
   "outputs": [
    {
     "name": "stdout",
     "output_type": "stream",
     "text": [
      "The r value is: -0.9898958991948005\n"
     ]
    },
    {
     "data": {
      "image/png": "[encoded data removed]",
      "text/plain": [
       "<Figure size 432x288 with 1 Axes>"
      ]
     },
     "metadata": {
      "needs_background": "light"
     },
     "output_type": "display_data"
    }
   ],
   "source": [
    "plt.scatter(south_df[\"Latitude\"], south_df[\"Humidity\"], color=\"cadetblue\", edgecolor=\"darkslategray\", alpha=0.75)\n",
    "\n",
    "x_values = south_df[\"Latitude\"]\n",
    "y_values = south_df[\"Humidity\"]\n",
    "\n",
    "(slope, intercept, rvalue, pvalue, stderr) = linregress(x_values, y_values)\n",
    "regress_values = x_values * slope + intercept\n",
    "\n",
    "line_eq = \"y = \" + str(round(slope,2)) + \"x + \" + str(round(intercept,2))\n",
    "plt.plot(x_values,regress_values,\"r-\",color=\"darkslategray\")\n",
    "plt.annotate(line_eq,(-55,60),fontsize=15,color=\"darkslategray\")\n",
    "\n",
    "plt.title(\"Southern Hemisphere \\n City Latitude vs. Humidity (11/16/20)\")\n",
    "plt.xlabel(\"Latitude\")\n",
    "plt.ylabel(\"Humidity (%)\")\n",
    "\n",
    "print(\"The r value is: \" + str(rvalue))\n",
    "plt.savefig(\"Southern Hemisphere City Latitude vs Humidity.png\")\n",
    "plt.show()"
   ]
  },
  {
   "cell_type": "markdown",
   "metadata": {},
   "source": [
    "####  Northern Hemisphere - Cloudiness (%) vs. Latitude Linear Regression"
   ]
  },
  {
   "cell_type": "code",
   "execution_count": 82,
   "metadata": {},
   "outputs": [
    {
     "name": "stdout",
     "output_type": "stream",
     "text": [
      "The r value is: 0.5282245064261125\n"
     ]
    },
    {
     "data": {
      "image/png": "[encoded data removed]",
      "text/plain": [
       "<Figure size 432x288 with 1 Axes>"
      ]
     },
     "metadata": {
      "needs_background": "light"
     },
     "output_type": "display_data"
    }
   ],
   "source": [
    "plt.scatter(north_df[\"Latitude\"], north_df[\"Cloudiness\"], color=\"teal\", edgecolor=\"darkblue\", alpha=0.75)\n",
    "\n",
    "x_values = north_df[\"Latitude\"]\n",
    "y_values = north_df[\"Cloudiness\"]\n",
    "\n",
    "(slope, intercept, rvalue, pvalue, stderr) = linregress(x_values, y_values)\n",
    "regress_values = x_values * slope + intercept\n",
    "\n",
    "line_eq = \"y = \" + str(round(slope,2)) + \"x + \" + str(round(intercept,2))\n",
    "plt.plot(x_values,regress_values,\"r-\",color=\"darkblue\")\n",
    "plt.annotate(line_eq,(25,80),fontsize=15,color=\"darkblue\")\n",
    "\n",
    "plt.title(\"Northern Hemisphere \\n City Latitude vs. Cloudiness (11/16/20)\")\n",
    "plt.xlabel(\"Latitude\")\n",
    "plt.ylabel(\"Cloudiness (%)\")\n",
    "\n",
    "print(\"The r value is: \" + str(rvalue))\n",
    "plt.savefig(\"Northern Hemisphere City Latitude vs Cloudiness.png\")\n",
    "plt.show()"
   ]
  },
  {
   "cell_type": "markdown",
   "metadata": {},
   "source": [
    "####  Southern Hemisphere - Cloudiness (%) vs. Latitude Linear Regression"
   ]
  },
  {
   "cell_type": "code",
   "execution_count": 83,
   "metadata": {},
   "outputs": [
    {
     "name": "stdout",
     "output_type": "stream",
     "text": [
      "The r value is: -0.5813043811446164\n"
     ]
    },
    {
     "data": {
      "image/png": "[encoded data removed]",
      "text/plain": [
       "<Figure size 432x288 with 1 Axes>"
      ]
     },
     "metadata": {
      "needs_background": "light"
     },
     "output_type": "display_data"
    }
   ],
   "source": [
    "plt.scatter(south_df[\"Latitude\"], south_df[\"Cloudiness\"], color=\"teal\", edgecolor=\"darkblue\", alpha=0.75)\n",
    "\n",
    "x_values = south_df[\"Latitude\"]\n",
    "y_values = south_df[\"Cloudiness\"]\n",
    "\n",
    "(slope, intercept, rvalue, pvalue, stderr) = linregress(x_values, y_values)\n",
    "regress_values = x_values * slope + intercept\n",
    "\n",
    "line_eq = \"y = \" + str(round(slope,2)) + \"x + \" + str(round(intercept,2))\n",
    "plt.plot(x_values,regress_values,\"r-\",color=\"darkblue\")\n",
    "plt.annotate(line_eq,(-55,20),fontsize=15,color=\"darkblue\")\n",
    "\n",
    "plt.title(\"Southern Hemisphere \\n City Latitude vs. Cloudiness (11/16/20)\")\n",
    "plt.xlabel(\"Latitude\")\n",
    "plt.ylabel(\"Cloudiness (%)\")\n",
    "\n",
    "print(\"The r value is: \" + str(rvalue))\n",
    "plt.savefig(\"Southern Hemisphere City Latitude vs Cloudiness.png\")\n",
    "plt.show()"
   ]
  },
  {
   "cell_type": "markdown",
   "metadata": {},
   "source": [
    "####  Northern Hemisphere - Wind Speed (mph) vs. Latitude Linear Regression"
   ]
  },
  {
   "cell_type": "code",
   "execution_count": 85,
   "metadata": {},
   "outputs": [
    {
     "name": "stdout",
     "output_type": "stream",
     "text": [
      "The r value is: 0.4541669674453238\n"
     ]
    },
    {
     "data": {
      "image/png": "[encoded data removed]",
      "text/plain": [
       "<Figure size 432x288 with 1 Axes>"
      ]
     },
     "metadata": {
      "needs_background": "light"
     },
     "output_type": "display_data"
    }
   ],
   "source": [
    "plt.scatter(north_df[\"Latitude\"], north_df[\"Wind Speed\"], color=\"forestgreen\", edgecolor=\"darkgreen\", alpha=0.75)\n",
    "\n",
    "x_values = north_df[\"Latitude\"]\n",
    "y_values = north_df[\"Wind Speed\"]\n",
    "\n",
    "(slope, intercept, rvalue, pvalue, stderr) = linregress(x_values, y_values)\n",
    "regress_values = x_values * slope + intercept\n",
    "\n",
    "line_eq = \"y = \" + str(round(slope,2)) + \"x + \" + str(round(intercept,2))\n",
    "plt.plot(x_values,regress_values,\"r-\",color=\"darkgreen\")\n",
    "plt.annotate(line_eq,(25,10),fontsize=15,color=\"darkgreen\")\n",
    "\n",
    "plt.title(\"Northern Hemisphere \\n City Latitude vs. Wind Speed (11/16/20)\")\n",
    "plt.xlabel(\"Latitude\")\n",
    "plt.ylabel(\"Wind Speed (mph)\")\n",
    "\n",
    "print(\"The r value is: \" + str(rvalue))\n",
    "plt.savefig(\"Northern Hemisphere City Latitude vs Wind Speed.png\")\n",
    "plt.show()"
   ]
  },
  {
   "cell_type": "markdown",
   "metadata": {},
   "source": [
    "####  Southern Hemisphere - Wind Speed (mph) vs. Latitude Linear Regression"
   ]
  },
  {
   "cell_type": "code",
   "execution_count": 87,
   "metadata": {},
   "outputs": [
    {
     "name": "stdout",
     "output_type": "stream",
     "text": [
      "The r value is: -0.513066084504534\n"
     ]
    },
    {
     "data": {
      "image/png": "[encoded data removed]",
      "text/plain": [
       "<Figure size 432x288 with 1 Axes>"
      ]
     },
     "metadata": {
      "needs_background": "light"
     },
     "output_type": "display_data"
    }
   ],
   "source": [
    "plt.scatter(south_df[\"Latitude\"], south_df[\"Wind Speed\"], color=\"forestgreen\", edgecolor=\"darkgreen\", alpha=0.75)\n",
    "\n",
    "x_values = south_df[\"Latitude\"]\n",
    "y_values = south_df[\"Wind Speed\"]\n",
    "\n",
    "(slope, intercept, rvalue, pvalue, stderr) = linregress(x_values, y_values)\n",
    "regress_values = x_values * slope + intercept\n",
    "\n",
    "line_eq = \"y = \" + str(round(slope,2)) + \"x + \" + str(round(intercept,2))\n",
    "plt.plot(x_values,regress_values,\"r-\",color=\"darkgreen\")\n",
    "plt.annotate(line_eq,(-55,5),fontsize=15,color=\"darkgreen\")\n",
    "\n",
    "plt.title(\"Southern Hemisphere \\n City Latitude vs. Wind Speed (11/16/20)\")\n",
    "plt.xlabel(\"Latitude\")\n",
    "plt.ylabel(\"Wind Speed (mph)\")\n",
    "\n",
    "print(\"The r value is: \" + str(rvalue))\n",
    "plt.savefig(\"Southern Hemisphere City Latitude vs Wind Speed.png\")\n",
    "plt.show()"
   ]
  },
  {
   "cell_type": "code",
   "execution_count": null,
   "metadata": {},
   "outputs": [],
   "source": []
  }
 ],
 "metadata": {
  "anaconda-cloud": {},
  "kernel_info": {
   "name": "python3"
  },
  "kernelspec": {
   "display_name": "Python 3",
   "language": "python",
   "name": "python3"
  },
  "language_info": {
   "codemirror_mode": {
    "name": "ipython",
    "version": 3
   },
   "file_extension": ".py",
   "mimetype": "text/x-python",
   "name": "python",
   "nbconvert_exporter": "python",
   "pygments_lexer": "ipython3",
   "version": "3.6.10"
  },
  "latex_envs": {
   "LaTeX_envs_menu_present": true,
   "autoclose": false,
   "autocomplete": true,
   "bibliofile": "biblio.bib",
   "cite_by": "apalike",
   "current_citInitial": 1,
   "eqLabelWithNumbers": true,
   "eqNumInitial": 1,
   "hotkeys": {
    "equation": "Ctrl-E",
    "itemize": "Ctrl-I"
   },
   "labels_anchors": false,
   "latex_user_defs": false,
   "report_style_numbering": false,
   "user_envs_cfg": false
  },
  "nteract": {
   "version": "0.12.3"
  }
 },
 "nbformat": 4,
 "nbformat_minor": 2
}
