{
 "cells": [
  {
   "cell_type": "markdown",
   "metadata": {},
   "source": [
    "# WeatherPy\n",
    "----\n",
    "\n",
    "#### Note\n",
    "* Instructions have been included for each segment. You do not have to follow them exactly, but they are included to help you think through the steps."
   ]
  },
  {
   "cell_type": "code",
   "execution_count": 1,
   "metadata": {
    "scrolled": true
   },
   "outputs": [],
   "source": [
    "import pandas as pd\n",
    "import numpy as np\n",
    "import math as math\n",
    "import matplotlib.pyplot as plt\n",
    "from scipy.stats import linregress\n",
    "import time\n",
    "import requests\n",
    "import json\n",
    "import random\n",
    "\n",
    "from citipy import citipy\n",
    "\n",
    "from api_keys import weather_api_key\n",
    "\n",
    "base_url = \"http://api.openweathermap.org/data/2.5/weather?q=\""
   ]
  },
  {
   "cell_type": "markdown",
   "metadata": {},
   "source": [
    "## Generate Cities List"
   ]
  },
  {
   "cell_type": "code",
   "execution_count": 2,
   "metadata": {},
   "outputs": [
    {
     "name": "stdout",
     "output_type": "stream",
     "text": [
      "10\n"
     ]
    }
   ],
   "source": [
    "coordinates = []\n",
    "cities = []\n",
    "\n",
    "longitude = np.random.uniform(-180, 180, size=10)\n",
    "latitude = np.random.uniform(-90, 90, size=10)\n",
    "\n",
    "coordinates = zip(latitude, longitude)\n",
    "\n",
    "for coordinate in coordinates:\n",
    "    city_coordinates = citipy.nearest_city(coordinate[0],coordinate[1]).city_name\n",
    "    if city_coordinates not in cities:\n",
    "        cities.append(city_coordinates)\n",
    "        \n",
    "print(len(cities))"
   ]
  },
  {
   "cell_type": "markdown",
   "metadata": {},
   "source": [
    "### Perform API Calls\n",
    "* Perform a weather check on each city using a series of successive API calls.\n",
    "* Include a print log of each city as it'sbeing processed (with the city number and city name).\n"
   ]
  },
  {
   "cell_type": "code",
   "execution_count": 3,
   "metadata": {
    "scrolled": true
   },
   "outputs": [
    {
     "name": "stdout",
     "output_type": "stream",
     "text": [
      "-----------------------------\n",
      "Beginning Data Retrieval\n",
      "-----------------------------\n",
      "Processing Record 1 of Set 1 | sorvag\n",
      "The city of sorvag not found. Skipping...\n",
      "Processing Record 2 of Set 1 | ushuaia\n",
      "Processing Record 3 of Set 1 | kruisfontein\n",
      "Processing Record 4 of Set 1 | laguna\n",
      "Processing Record 5 of Set 1 | fort nelson\n",
      "Processing Record 6 of Set 1 | namatanai\n",
      "Processing Record 7 of Set 1 | port alfred\n",
      "Processing Record 8 of Set 1 | rikitea\n",
      "Processing Record 9 of Set 1 | nizhneyansk\n",
      "The city of nizhneyansk not found. Skipping...\n",
      "Processing Record 10 of Set 1 | palmer\n",
      "-----------------------------\n",
      "Data Retrieval Complete\n",
      "-----------------------------\n"
     ]
    }
   ],
   "source": [
    "# build the endpoint, read the documentation, figure out the varaibles to pull out, check out weatehr related activities, copy the endpoint and paste it into googlechrome to check if it works and how the json object appears\n",
    "# don't forget the try and accept to make sure that if a city doesn't show up it doesn't break\n",
    "# consider a pause at the end sleep.01 or 3\n",
    "# save the dataframe to a csv right away, keep in mind the data will all change\n",
    "\n",
    "record_count = 1\n",
    "set_count = 1\n",
    "\n",
    "city_name = []\n",
    "lat = []\n",
    "lng = []\n",
    "max_temp = []\n",
    "humidity = []\n",
    "clouds = []\n",
    "wind_speed = []\n",
    "country = []\n",
    "date = []\n",
    "\n",
    "print(\"-----------------------------\")\n",
    "print(\"Beginning Data Retrieval\")\n",
    "print(\"-----------------------------\")\n",
    "\n",
    "for city in cities:\n",
    "    \n",
    "    time.sleep(1.25)\n",
    "    \n",
    "    query_url = f\"{base_url}{city}&units=imperial&appid={weather_api_key}\"\n",
    "\n",
    "    weather_response = requests.get(query_url)\n",
    "    weather_json = weather_response.json()\n",
    "    \n",
    "    try:\n",
    "        print(\"Processing Record \" + str(record_count) + \" of Set \" + str(set_count) + \" | \" + city)\n",
    "        \n",
    "        record_count = record_count + 1\n",
    "        set_count = set_count + math.floor((set_count/50))\n",
    "        \n",
    "        city_name.append(weather_json[\"name\"])\n",
    "        lat.append(weather_json[\"coord\"][\"lat\"])\n",
    "        lng.append(weather_json[\"coord\"][\"lon\"])\n",
    "        max_temp.append(weather_json[\"main\"][\"temp_max\"])\n",
    "        humidity.append(weather_json[\"main\"][\"humidity\"])\n",
    "        clouds.append(weather_json[\"clouds\"][\"all\"])\n",
    "        wind_speed.append(weather_json[\"wind\"][\"speed\"])\n",
    "        country.append(weather_json[\"sys\"][\"country\"])\n",
    "        date.append(weather_json[\"dt\"])\n",
    "        \n",
    "    except:\n",
    "        print(\"The city of \" + city + \" not found. Skipping...\")\n",
    "        \n",
    "print(\"-----------------------------\")\n",
    "print(\"Data Retrieval Complete\")\n",
    "print(\"-----------------------------\")"
   ]
  },
  {
   "cell_type": "markdown",
   "metadata": {},
   "source": [
    "### Convert Raw Data to DataFrame\n",
    "* Export the city data into a .csv.\n",
    "* Display the DataFrame"
   ]
  },
  {
   "cell_type": "code",
   "execution_count": 4,
   "metadata": {},
   "outputs": [
    {
     "data": {
      "text/html": [
       "<div>\n",
       "<style scoped>\n",
       "    .dataframe tbody tr th:only-of-type {\n",
       "        vertical-align: middle;\n",
       "    }\n",
       "\n",
       "    .dataframe tbody tr th {\n",
       "        vertical-align: top;\n",
       "    }\n",
       "\n",
       "    .dataframe thead th {\n",
       "        text-align: right;\n",
       "    }\n",
       "</style>\n",
       "<table border=\"1\" class=\"dataframe\">\n",
       "  <thead>\n",
       "    <tr style=\"text-align: right;\">\n",
       "      <th></th>\n",
       "      <th>City</th>\n",
       "      <th>Latitude</th>\n",
       "      <th>Longitude</th>\n",
       "      <th>Max Temperature</th>\n",
       "      <th>Humidity</th>\n",
       "      <th>Cloudiness</th>\n",
       "      <th>Wind Speed</th>\n",
       "      <th>Country</th>\n",
       "      <th>Date</th>\n",
       "    </tr>\n",
       "  </thead>\n",
       "  <tbody>\n",
       "    <tr>\n",
       "      <th>0</th>\n",
       "      <td>Ushuaia</td>\n",
       "      <td>-54.80</td>\n",
       "      <td>-68.30</td>\n",
       "      <td>35.60</td>\n",
       "      <td>84</td>\n",
       "      <td>75</td>\n",
       "      <td>6.93</td>\n",
       "      <td>AR</td>\n",
       "      <td>1605346667</td>\n",
       "    </tr>\n",
       "    <tr>\n",
       "      <th>1</th>\n",
       "      <td>Kruisfontein</td>\n",
       "      <td>-34.00</td>\n",
       "      <td>24.73</td>\n",
       "      <td>75.99</td>\n",
       "      <td>52</td>\n",
       "      <td>0</td>\n",
       "      <td>8.99</td>\n",
       "      <td>ZA</td>\n",
       "      <td>1605347250</td>\n",
       "    </tr>\n",
       "    <tr>\n",
       "      <th>2</th>\n",
       "      <td>Laguna</td>\n",
       "      <td>38.42</td>\n",
       "      <td>-121.42</td>\n",
       "      <td>50.00</td>\n",
       "      <td>93</td>\n",
       "      <td>14</td>\n",
       "      <td>4.70</td>\n",
       "      <td>US</td>\n",
       "      <td>1605347251</td>\n",
       "    </tr>\n",
       "    <tr>\n",
       "      <th>3</th>\n",
       "      <td>Fort Nelson</td>\n",
       "      <td>58.81</td>\n",
       "      <td>-122.70</td>\n",
       "      <td>14.00</td>\n",
       "      <td>85</td>\n",
       "      <td>90</td>\n",
       "      <td>1.03</td>\n",
       "      <td>CA</td>\n",
       "      <td>1605347053</td>\n",
       "    </tr>\n",
       "    <tr>\n",
       "      <th>4</th>\n",
       "      <td>Namatanai</td>\n",
       "      <td>-3.67</td>\n",
       "      <td>152.43</td>\n",
       "      <td>81.68</td>\n",
       "      <td>77</td>\n",
       "      <td>18</td>\n",
       "      <td>11.27</td>\n",
       "      <td>PG</td>\n",
       "      <td>1605347254</td>\n",
       "    </tr>\n",
       "    <tr>\n",
       "      <th>5</th>\n",
       "      <td>Port Alfred</td>\n",
       "      <td>-33.59</td>\n",
       "      <td>26.89</td>\n",
       "      <td>72.77</td>\n",
       "      <td>67</td>\n",
       "      <td>8</td>\n",
       "      <td>22.41</td>\n",
       "      <td>ZA</td>\n",
       "      <td>1605347210</td>\n",
       "    </tr>\n",
       "    <tr>\n",
       "      <th>6</th>\n",
       "      <td>Rikitea</td>\n",
       "      <td>-23.12</td>\n",
       "      <td>-134.97</td>\n",
       "      <td>75.22</td>\n",
       "      <td>84</td>\n",
       "      <td>100</td>\n",
       "      <td>16.13</td>\n",
       "      <td>PF</td>\n",
       "      <td>1605347191</td>\n",
       "    </tr>\n",
       "    <tr>\n",
       "      <th>7</th>\n",
       "      <td>Palmer</td>\n",
       "      <td>42.16</td>\n",
       "      <td>-72.33</td>\n",
       "      <td>37.00</td>\n",
       "      <td>100</td>\n",
       "      <td>90</td>\n",
       "      <td>3.56</td>\n",
       "      <td>US</td>\n",
       "      <td>1605347259</td>\n",
       "    </tr>\n",
       "  </tbody>\n",
       "</table>\n",
       "</div>"
      ],
      "text/plain": [
       "           City  Latitude  Longitude  Max Temperature  Humidity  Cloudiness  \\\n",
       "0       Ushuaia    -54.80     -68.30            35.60        84          75   \n",
       "1  Kruisfontein    -34.00      24.73            75.99        52           0   \n",
       "2        Laguna     38.42    -121.42            50.00        93          14   \n",
       "3   Fort Nelson     58.81    -122.70            14.00        85          90   \n",
       "4     Namatanai     -3.67     152.43            81.68        77          18   \n",
       "5   Port Alfred    -33.59      26.89            72.77        67           8   \n",
       "6       Rikitea    -23.12    -134.97            75.22        84         100   \n",
       "7        Palmer     42.16     -72.33            37.00       100          90   \n",
       "\n",
       "   Wind Speed Country        Date  \n",
       "0        6.93      AR  1605346667  \n",
       "1        8.99      ZA  1605347250  \n",
       "2        4.70      US  1605347251  \n",
       "3        1.03      CA  1605347053  \n",
       "4       11.27      PG  1605347254  \n",
       "5       22.41      ZA  1605347210  \n",
       "6       16.13      PF  1605347191  \n",
       "7        3.56      US  1605347259  "
      ]
     },
     "execution_count": 4,
     "metadata": {},
     "output_type": "execute_result"
    }
   ],
   "source": [
    "weather_df = pd.DataFrame({'City':city_name, 'Latitude':lat, 'Longitude': lng, 'Max Temperature': max_temp,\n",
    "                          'Humidity':humidity, 'Cloudiness': clouds, 'Wind Speed': wind_speed, 'Country':country, \"Date\":date})\n",
    "\n",
    "weather_df[[\"Humidity\", \"Cloudiness\"]] = weather_df[[\"Humidity\", \"Cloudiness\"]].apply(pd.to_numeric)\n",
    "\n",
    "weather_df.to_csv(r'C:\\Users\\kylie\\OneDrive\\Desktop\\uofm-stp-data-pt-09-2020-u-c\\02-Homework\\06-Python-APIs\\python-api-challenge\\Weatherpy Documents\\weather_df.csv')\n",
    "\n",
    "weather_df"
   ]
  },
  {
   "cell_type": "code",
   "execution_count": 5,
   "metadata": {},
   "outputs": [
    {
     "data": {
      "text/html": [
       "<div>\n",
       "<style scoped>\n",
       "    .dataframe tbody tr th:only-of-type {\n",
       "        vertical-align: middle;\n",
       "    }\n",
       "\n",
       "    .dataframe tbody tr th {\n",
       "        vertical-align: top;\n",
       "    }\n",
       "\n",
       "    .dataframe thead th {\n",
       "        text-align: right;\n",
       "    }\n",
       "</style>\n",
       "<table border=\"1\" class=\"dataframe\">\n",
       "  <thead>\n",
       "    <tr style=\"text-align: right;\">\n",
       "      <th></th>\n",
       "      <th>Latitude</th>\n",
       "      <th>Longitude</th>\n",
       "      <th>Max Temperature</th>\n",
       "      <th>Humidity</th>\n",
       "      <th>Cloudiness</th>\n",
       "      <th>Wind Speed</th>\n",
       "      <th>Date</th>\n",
       "    </tr>\n",
       "  </thead>\n",
       "  <tbody>\n",
       "    <tr>\n",
       "      <th>count</th>\n",
       "      <td>8.000000</td>\n",
       "      <td>8.00000</td>\n",
       "      <td>8.000000</td>\n",
       "      <td>8.000000</td>\n",
       "      <td>8.000000</td>\n",
       "      <td>8.000000</td>\n",
       "      <td>8.000000e+00</td>\n",
       "    </tr>\n",
       "    <tr>\n",
       "      <th>mean</th>\n",
       "      <td>-1.223750</td>\n",
       "      <td>-39.45875</td>\n",
       "      <td>55.282500</td>\n",
       "      <td>80.250000</td>\n",
       "      <td>49.375000</td>\n",
       "      <td>9.377500</td>\n",
       "      <td>1.605347e+09</td>\n",
       "    </tr>\n",
       "    <tr>\n",
       "      <th>std</th>\n",
       "      <td>42.317725</td>\n",
       "      <td>100.01795</td>\n",
       "      <td>24.735011</td>\n",
       "      <td>15.059406</td>\n",
       "      <td>42.938286</td>\n",
       "      <td>7.076797</td>\n",
       "      <td>2.036625e+02</td>\n",
       "    </tr>\n",
       "    <tr>\n",
       "      <th>min</th>\n",
       "      <td>-54.800000</td>\n",
       "      <td>-134.97000</td>\n",
       "      <td>14.000000</td>\n",
       "      <td>52.000000</td>\n",
       "      <td>0.000000</td>\n",
       "      <td>1.030000</td>\n",
       "      <td>1.605347e+09</td>\n",
       "    </tr>\n",
       "    <tr>\n",
       "      <th>25%</th>\n",
       "      <td>-33.692500</td>\n",
       "      <td>-121.74000</td>\n",
       "      <td>36.650000</td>\n",
       "      <td>74.500000</td>\n",
       "      <td>12.500000</td>\n",
       "      <td>4.415000</td>\n",
       "      <td>1.605347e+09</td>\n",
       "    </tr>\n",
       "    <tr>\n",
       "      <th>50%</th>\n",
       "      <td>-13.395000</td>\n",
       "      <td>-70.31500</td>\n",
       "      <td>61.385000</td>\n",
       "      <td>84.000000</td>\n",
       "      <td>46.500000</td>\n",
       "      <td>7.960000</td>\n",
       "      <td>1.605347e+09</td>\n",
       "    </tr>\n",
       "    <tr>\n",
       "      <th>75%</th>\n",
       "      <td>39.355000</td>\n",
       "      <td>25.27000</td>\n",
       "      <td>75.412500</td>\n",
       "      <td>87.000000</td>\n",
       "      <td>90.000000</td>\n",
       "      <td>12.485000</td>\n",
       "      <td>1.605347e+09</td>\n",
       "    </tr>\n",
       "    <tr>\n",
       "      <th>max</th>\n",
       "      <td>58.810000</td>\n",
       "      <td>152.43000</td>\n",
       "      <td>81.680000</td>\n",
       "      <td>100.000000</td>\n",
       "      <td>100.000000</td>\n",
       "      <td>22.410000</td>\n",
       "      <td>1.605347e+09</td>\n",
       "    </tr>\n",
       "  </tbody>\n",
       "</table>\n",
       "</div>"
      ],
      "text/plain": [
       "        Latitude  Longitude  Max Temperature    Humidity  Cloudiness  \\\n",
       "count   8.000000    8.00000         8.000000    8.000000    8.000000   \n",
       "mean   -1.223750  -39.45875        55.282500   80.250000   49.375000   \n",
       "std    42.317725  100.01795        24.735011   15.059406   42.938286   \n",
       "min   -54.800000 -134.97000        14.000000   52.000000    0.000000   \n",
       "25%   -33.692500 -121.74000        36.650000   74.500000   12.500000   \n",
       "50%   -13.395000  -70.31500        61.385000   84.000000   46.500000   \n",
       "75%    39.355000   25.27000        75.412500   87.000000   90.000000   \n",
       "max    58.810000  152.43000        81.680000  100.000000  100.000000   \n",
       "\n",
       "       Wind Speed          Date  \n",
       "count    8.000000  8.000000e+00  \n",
       "mean     9.377500  1.605347e+09  \n",
       "std      7.076797  2.036625e+02  \n",
       "min      1.030000  1.605347e+09  \n",
       "25%      4.415000  1.605347e+09  \n",
       "50%      7.960000  1.605347e+09  \n",
       "75%     12.485000  1.605347e+09  \n",
       "max     22.410000  1.605347e+09  "
      ]
     },
     "execution_count": 5,
     "metadata": {},
     "output_type": "execute_result"
    }
   ],
   "source": [
    "weather_df.describe()"
   ]
  },
  {
   "cell_type": "markdown",
   "metadata": {},
   "source": [
    "## Inspect the data and remove the cities where the humidity > 100%.\n",
    "----\n",
    "Skip this step if there are no cities that have humidity > 100%. "
   ]
  },
  {
   "cell_type": "code",
   "execution_count": 6,
   "metadata": {},
   "outputs": [
    {
     "data": {
      "text/html": [
       "<div>\n",
       "<style scoped>\n",
       "    .dataframe tbody tr th:only-of-type {\n",
       "        vertical-align: middle;\n",
       "    }\n",
       "\n",
       "    .dataframe tbody tr th {\n",
       "        vertical-align: top;\n",
       "    }\n",
       "\n",
       "    .dataframe thead th {\n",
       "        text-align: right;\n",
       "    }\n",
       "</style>\n",
       "<table border=\"1\" class=\"dataframe\">\n",
       "  <thead>\n",
       "    <tr style=\"text-align: right;\">\n",
       "      <th></th>\n",
       "      <th>City</th>\n",
       "      <th>Latitude</th>\n",
       "      <th>Longitude</th>\n",
       "      <th>Max Temperature</th>\n",
       "      <th>Humidity</th>\n",
       "      <th>Cloudiness</th>\n",
       "      <th>Wind Speed</th>\n",
       "      <th>Country</th>\n",
       "      <th>Date</th>\n",
       "    </tr>\n",
       "  </thead>\n",
       "  <tbody>\n",
       "  </tbody>\n",
       "</table>\n",
       "</div>"
      ],
      "text/plain": [
       "Empty DataFrame\n",
       "Columns: [City, Latitude, Longitude, Max Temperature, Humidity, Cloudiness, Wind Speed, Country, Date]\n",
       "Index: []"
      ]
     },
     "execution_count": 6,
     "metadata": {},
     "output_type": "execute_result"
    }
   ],
   "source": [
    "high_humidity = weather_df.loc[weather_df[\"Humidity\"] > 100]\n",
    "high_humidity"
   ]
  },
  {
   "cell_type": "code",
   "execution_count": 7,
   "metadata": {},
   "outputs": [],
   "source": [
    "#  Get the indices of cities that have humidity over 100%.\n"
   ]
  },
  {
   "cell_type": "code",
   "execution_count": 8,
   "metadata": {},
   "outputs": [],
   "source": [
    "# Make a new DataFrame equal to the city data to drop all humidity outliers by index.\n",
    "# Passing \"inplace=False\" will make a copy of the city_data DataFrame, which we call \"clean_city_data\".\n"
   ]
  },
  {
   "cell_type": "markdown",
   "metadata": {},
   "source": [
    "## Plotting the Data\n",
    "* Use proper labeling of the plots using plot titles (including date of analysis) and axes labels.\n",
    "* Save the plotted figures as .pngs."
   ]
  },
  {
   "cell_type": "markdown",
   "metadata": {},
   "source": [
    "## Latitude vs. Temperature Plot"
   ]
  },
  {
   "cell_type": "code",
   "execution_count": 25,
   "metadata": {
    "scrolled": true
   },
   "outputs": [
    {
     "data": {
      "image/png": "[encoded data removed]",
      "text/plain": [
       "<Figure size 432x288 with 1 Axes>"
      ]
     },
     "metadata": {
      "needs_background": "light"
     },
     "output_type": "display_data"
    }
   ],
   "source": [
    "plt.scatter(weather_df[\"Latitude\"], weather_df[\"Max Temperature\"], color=\"lightcoral\", edgecolor=\"maroon\", alpha=0.75)\n",
    "plt.title(\"City Latitude vs. Max Temperature (11/16/20)\")\n",
    "plt.xlabel(\"Latitude\")\n",
    "plt.ylabel(\"Max Temperature (F)\")\n",
    "plt.grid()\n",
    "plt.savefig(\"Weatherpy Documents/City Latitude vs Max Temperature.png\")\n",
    "plt.show()"
   ]
  },
  {
   "cell_type": "markdown",
   "metadata": {},
   "source": [
    "## Latitude vs. Humidity Plot"
   ]
  },
  {
   "cell_type": "code",
   "execution_count": 26,
   "metadata": {},
   "outputs": [
    {
     "data": {
      "image/png": "[encoded data removed]",
      "text/plain": [
       "<Figure size 432x288 with 1 Axes>"
      ]
     },
     "metadata": {
      "needs_background": "light"
     },
     "output_type": "display_data"
    }
   ],
   "source": [
    "plt.scatter(weather_df[\"Latitude\"], weather_df[\"Humidity\"], color=\"cadetblue\", edgecolor=\"darkslategray\", alpha=0.75)\n",
    "plt.title(\"City Latitude vs. Humidity (11/16/20)\")\n",
    "plt.xlabel(\"Latitude\")\n",
    "plt.ylabel(\"Humidity (%)\")\n",
    "plt.grid()\n",
    "plt.savefig(\"Weatherpy Documents/City Latitude vs Humidity.png\")\n",
    "plt.show()"
   ]
  },
  {
   "cell_type": "markdown",
   "metadata": {},
   "source": [
    "## Latitude vs. Cloudiness Plot"
   ]
  },
  {
   "cell_type": "code",
   "execution_count": 27,
   "metadata": {},
   "outputs": [
    {
     "data": {
      "image/png": "[encoded data removed]",
      "text/plain": [
       "<Figure size 432x288 with 1 Axes>"
      ]
     },
     "metadata": {
      "needs_background": "light"
     },
     "output_type": "display_data"
    }
   ],
   "source": [
    "plt.scatter(weather_df[\"Latitude\"], weather_df[\"Cloudiness\"], color=\"teal\", edgecolor=\"darkblue\", alpha=0.75)\n",
    "plt.title(\"City Latitude vs. Cloudiness (11/16/20)\")\n",
    "plt.xlabel(\"Latitude\")\n",
    "plt.ylabel(\"Cloudiness (%)\")\n",
    "plt.grid()\n",
    "plt.savefig(\"Weatherpy Documents/City Latitude vs Cloudiness.png\")\n",
    "plt.show()"
   ]
  },
  {
   "cell_type": "markdown",
   "metadata": {},
   "source": [
    "## Latitude vs. Wind Speed Plot"
   ]
  },
  {
   "cell_type": "code",
   "execution_count": 28,
   "metadata": {},
   "outputs": [
    {
     "data": {
      "image/png": "[encoded data removed]",
      "text/plain": [
       "<Figure size 432x288 with 1 Axes>"
      ]
     },
     "metadata": {
      "needs_background": "light"
     },
     "output_type": "display_data"
    }
   ],
   "source": [
    "plt.scatter(weather_df[\"Latitude\"], weather_df[\"Wind Speed\"], color=\"forestgreen\", edgecolor=\"darkgreen\", alpha=0.75)\n",
    "plt.title(\"City Latitude vs. Wind Speed (11/16/20)\")\n",
    "plt.xlabel(\"Latitude\")\n",
    "plt.ylabel(\"Wind Speed (mph)\")\n",
    "plt.grid()\n",
    "plt.savefig(\"Weatherpy Documents/City Latitude vs Wind Speed.png\")\n",
    "plt.show()"
   ]
  },
  {
   "cell_type": "markdown",
   "metadata": {},
   "source": [
    "## Linear Regression"
   ]
  },
  {
   "cell_type": "code",
   "execution_count": 29,
   "metadata": {},
   "outputs": [],
   "source": [
    "# Dataframe for Northern Hemisphere (greater than or equal to 0 degrees latitude)\n",
    "north_df = weather_df.loc[weather_df[\"Latitude\"] >= 0]\n",
    "\n",
    "# Dataframe for Southern Hemisphere (less than 0 degrees latitude)\n",
    "south_df = weather_df.loc[weather_df[\"Latitude\"] < 0]"
   ]
  },
  {
   "cell_type": "markdown",
   "metadata": {},
   "source": [
    "####  Northern Hemisphere - Max Temp vs. Latitude Linear Regression"
   ]
  },
  {
   "cell_type": "code",
   "execution_count": 30,
   "metadata": {},
   "outputs": [
    {
     "name": "stdout",
     "output_type": "stream",
     "text": [
      "The r value is: -0.9817311945815957\n"
     ]
    },
    {
     "data": {
      "image/png": "[encoded data removed]",
      "text/plain": [
       "<Figure size 432x288 with 1 Axes>"
      ]
     },
     "metadata": {
      "needs_background": "light"
     },
     "output_type": "display_data"
    }
   ],
   "source": [
    "plt.scatter(north_df[\"Latitude\"], north_df[\"Max Temperature\"], color=\"lightcoral\", edgecolor=\"maroon\", alpha=0.75)\n",
    "\n",
    "x_values = north_df[\"Latitude\"]\n",
    "y_values = north_df[\"Max Temperature\"]\n",
    "\n",
    "(slope, intercept, rvalue, pvalue, stderr) = linregress(x_values, y_values)\n",
    "regress_values = x_values * slope + intercept\n",
    "\n",
    "line_eq = \"y = \" + str(round(slope,2)) + \"x + \" + str(round(intercept,2))\n",
    "plt.plot(x_values,regress_values,\"r-\",color=\"maroon\")\n",
    "plt.annotate(line_eq,(45,25),fontsize=15,color=\"maroon\")\n",
    "\n",
    "plt.title(\"Northern Hemisphere \\n City Latitude vs. Max Temperature (11/16/20)\")\n",
    "plt.xlabel(\"Latitude\")\n",
    "plt.ylabel(\"Max Temperature (F)\")\n",
    "\n",
    "print(\"The r value is: \" + str(rvalue))\n",
    "plt.savefig(\"Weatherpy Documents/Northern Hemisphere City Latitude vs Max Temperature.png\")\n",
    "plt.show()"
   ]
  },
  {
   "cell_type": "markdown",
   "metadata": {},
   "source": [
    "####  Southern Hemisphere - Max Temp vs. Latitude Linear Regression"
   ]
  },
  {
   "cell_type": "code",
   "execution_count": 31,
   "metadata": {},
   "outputs": [
    {
     "name": "stdout",
     "output_type": "stream",
     "text": [
      "The r value is: 0.8436438931393622\n"
     ]
    },
    {
     "data": {
      "image/png": "[encoded data removed]",
      "text/plain": [
       "<Figure size 432x288 with 1 Axes>"
      ]
     },
     "metadata": {
      "needs_background": "light"
     },
     "output_type": "display_data"
    }
   ],
   "source": [
    "plt.scatter(south_df[\"Latitude\"], south_df[\"Max Temperature\"], color=\"lightcoral\", edgecolor=\"maroon\", alpha=0.75)\n",
    "\n",
    "x_values = south_df[\"Latitude\"]\n",
    "y_values = south_df[\"Max Temperature\"]\n",
    "\n",
    "(slope, intercept, rvalue, pvalue, stderr) = linregress(x_values, y_values)\n",
    "regress_values = x_values * slope + intercept\n",
    "\n",
    "line_eq = \"y = \" + str(round(slope,2)) + \"x + \" + str(round(intercept,2))\n",
    "plt.plot(x_values,regress_values,\"r-\",color=\"maroon\")\n",
    "plt.annotate(line_eq,(-45,40),fontsize=15,color=\"maroon\")\n",
    "\n",
    "plt.title(\"Southern Hemisphere \\n City Latitude vs. Max Temperature (11/16/20)\")\n",
    "plt.xlabel(\"Latitude\")\n",
    "plt.ylabel(\"Max Temperature (F)\")\n",
    "\n",
    "print(\"The r value is: \" + str(rvalue))\n",
    "plt.savefig(\"Weatherpy Documents/Southern Hemisphere City Latitude vs Max Temperature.png\")\n",
    "plt.show()"
   ]
  },
  {
   "cell_type": "markdown",
   "metadata": {},
   "source": [
    "####  Northern Hemisphere - Humidity (%) vs. Latitude Linear Regression"
   ]
  },
  {
   "cell_type": "code",
   "execution_count": 32,
   "metadata": {},
   "outputs": [
    {
     "name": "stdout",
     "output_type": "stream",
     "text": [
      "The r value is: -0.7910546618489047\n"
     ]
    },
    {
     "data": {
      "image/png": "[encoded data removed]",
      "text/plain": [
       "<Figure size 432x288 with 1 Axes>"
      ]
     },
     "metadata": {
      "needs_background": "light"
     },
     "output_type": "display_data"
    }
   ],
   "source": [
    "plt.scatter(north_df[\"Latitude\"], north_df[\"Humidity\"], color=\"cadetblue\", edgecolor=\"darkslategray\", alpha=0.75)\n",
    "\n",
    "x_values = north_df[\"Latitude\"]\n",
    "y_values = north_df[\"Humidity\"]\n",
    "\n",
    "(slope, intercept, rvalue, pvalue, stderr) = linregress(x_values, y_values)\n",
    "regress_values = x_values * slope + intercept\n",
    "\n",
    "line_eq = \"y = \" + str(round(slope,2)) + \"x + \" + str(round(intercept,2))\n",
    "plt.plot(x_values,regress_values,\"r-\",color=\"darkslategray\")\n",
    "plt.annotate(line_eq,(25,90),fontsize=15,color=\"darkslategray\")\n",
    "\n",
    "plt.title(\"Northern Hemisphere \\n City Latitude vs. Humidity (11/16/20)\")\n",
    "plt.xlabel(\"Latitude\")\n",
    "plt.ylabel(\"Humidity (%)\")\n",
    "\n",
    "print(\"The r value is: \" + str(rvalue))\n",
    "plt.savefig(\"Weatherpy Documents/Northern Hemisphere City Latitude vs Humidity.png\")\n",
    "plt.show()"
   ]
  },
  {
   "cell_type": "markdown",
   "metadata": {},
   "source": [
    "####  Southern Hemisphere - Humidity (%) vs. Latitude Linear Regression"
   ]
  },
  {
   "cell_type": "code",
   "execution_count": 33,
   "metadata": {},
   "outputs": [
    {
     "name": "stdout",
     "output_type": "stream",
     "text": [
      "The r value is: 0.01378557461040522\n"
     ]
    },
    {
     "data": {
      "image/png": "[encoded data removed]",
      "text/plain": [
       "<Figure size 432x288 with 1 Axes>"
      ]
     },
     "metadata": {
      "needs_background": "light"
     },
     "output_type": "display_data"
    }
   ],
   "source": [
    "plt.scatter(south_df[\"Latitude\"], south_df[\"Humidity\"], color=\"cadetblue\", edgecolor=\"darkslategray\", alpha=0.75)\n",
    "\n",
    "x_values = south_df[\"Latitude\"]\n",
    "y_values = south_df[\"Humidity\"]\n",
    "\n",
    "(slope, intercept, rvalue, pvalue, stderr) = linregress(x_values, y_values)\n",
    "regress_values = x_values * slope + intercept\n",
    "\n",
    "line_eq = \"y = \" + str(round(slope,2)) + \"x + \" + str(round(intercept,2))\n",
    "plt.plot(x_values,regress_values,\"r-\",color=\"darkslategray\")\n",
    "plt.annotate(line_eq,(-55,60),fontsize=15,color=\"darkslategray\")\n",
    "\n",
    "plt.title(\"Southern Hemisphere \\n City Latitude vs. Humidity (11/16/20)\")\n",
    "plt.xlabel(\"Latitude\")\n",
    "plt.ylabel(\"Humidity (%)\")\n",
    "\n",
    "print(\"The r value is: \" + str(rvalue))\n",
    "plt.savefig(\"Weatherpy Documents/Southern Hemisphere City Latitude vs Humidity.png\")\n",
    "plt.show()"
   ]
  },
  {
   "cell_type": "markdown",
   "metadata": {},
   "source": [
    "####  Northern Hemisphere - Cloudiness (%) vs. Latitude Linear Regression"
   ]
  },
  {
   "cell_type": "code",
   "execution_count": 34,
   "metadata": {},
   "outputs": [
    {
     "name": "stdout",
     "output_type": "stream",
     "text": [
      "The r value is: 0.6417180089357956\n"
     ]
    },
    {
     "data": {
      "image/png": "[encoded data removed]",
      "text/plain": [
       "<Figure size 432x288 with 1 Axes>"
      ]
     },
     "metadata": {
      "needs_background": "light"
     },
     "output_type": "display_data"
    }
   ],
   "source": [
    "plt.scatter(north_df[\"Latitude\"], north_df[\"Cloudiness\"], color=\"teal\", edgecolor=\"darkblue\", alpha=0.75)\n",
    "\n",
    "x_values = north_df[\"Latitude\"]\n",
    "y_values = north_df[\"Cloudiness\"]\n",
    "\n",
    "(slope, intercept, rvalue, pvalue, stderr) = linregress(x_values, y_values)\n",
    "regress_values = x_values * slope + intercept\n",
    "\n",
    "line_eq = \"y = \" + str(round(slope,2)) + \"x + \" + str(round(intercept,2))\n",
    "plt.plot(x_values,regress_values,\"r-\",color=\"darkblue\")\n",
    "plt.annotate(line_eq,(25,80),fontsize=15,color=\"darkblue\")\n",
    "\n",
    "plt.title(\"Northern Hemisphere \\n City Latitude vs. Cloudiness (11/16/20)\")\n",
    "plt.xlabel(\"Latitude\")\n",
    "plt.ylabel(\"Cloudiness (%)\")\n",
    "\n",
    "print(\"The r value is: \" + str(rvalue))\n",
    "plt.savefig(\"Weatherpy Documents/Northern Hemisphere City Latitude vs Cloudiness.png\")\n",
    "plt.show()"
   ]
  },
  {
   "cell_type": "markdown",
   "metadata": {},
   "source": [
    "####  Southern Hemisphere - Cloudiness (%) vs. Latitude Linear Regression"
   ]
  },
  {
   "cell_type": "code",
   "execution_count": 35,
   "metadata": {},
   "outputs": [
    {
     "name": "stdout",
     "output_type": "stream",
     "text": [
      "The r value is: -0.2292575855201726\n"
     ]
    },
    {
     "data": {
      "image/png": "[encoded data removed]",
      "text/plain": [
       "<Figure size 432x288 with 1 Axes>"
      ]
     },
     "metadata": {
      "needs_background": "light"
     },
     "output_type": "display_data"
    }
   ],
   "source": [
    "plt.scatter(south_df[\"Latitude\"], south_df[\"Cloudiness\"], color=\"teal\", edgecolor=\"darkblue\", alpha=0.75)\n",
    "\n",
    "x_values = south_df[\"Latitude\"]\n",
    "y_values = south_df[\"Cloudiness\"]\n",
    "\n",
    "(slope, intercept, rvalue, pvalue, stderr) = linregress(x_values, y_values)\n",
    "regress_values = x_values * slope + intercept\n",
    "\n",
    "line_eq = \"y = \" + str(round(slope,2)) + \"x + \" + str(round(intercept,2))\n",
    "plt.plot(x_values,regress_values,\"r-\",color=\"darkblue\")\n",
    "plt.annotate(line_eq,(-55,20),fontsize=15,color=\"darkblue\")\n",
    "\n",
    "plt.title(\"Southern Hemisphere \\n City Latitude vs. Cloudiness (11/16/20)\")\n",
    "plt.xlabel(\"Latitude\")\n",
    "plt.ylabel(\"Cloudiness (%)\")\n",
    "\n",
    "print(\"The r value is: \" + str(rvalue))\n",
    "plt.savefig(\"Weatherpy Documents/Southern Hemisphere City Latitude vs Cloudiness.png\")\n",
    "plt.show()"
   ]
  },
  {
   "cell_type": "markdown",
   "metadata": {},
   "source": [
    "####  Northern Hemisphere - Wind Speed (mph) vs. Latitude Linear Regression"
   ]
  },
  {
   "cell_type": "code",
   "execution_count": 36,
   "metadata": {},
   "outputs": [
    {
     "name": "stdout",
     "output_type": "stream",
     "text": [
      "The r value is: -0.9908770250743184\n"
     ]
    },
    {
     "data": {
      "image/png": "[encoded data removed]",
      "text/plain": [
       "<Figure size 432x288 with 1 Axes>"
      ]
     },
     "metadata": {
      "needs_background": "light"
     },
     "output_type": "display_data"
    }
   ],
   "source": [
    "plt.scatter(north_df[\"Latitude\"], north_df[\"Wind Speed\"], color=\"forestgreen\", edgecolor=\"darkgreen\", alpha=0.75)\n",
    "\n",
    "x_values = north_df[\"Latitude\"]\n",
    "y_values = north_df[\"Wind Speed\"]\n",
    "\n",
    "(slope, intercept, rvalue, pvalue, stderr) = linregress(x_values, y_values)\n",
    "regress_values = x_values * slope + intercept\n",
    "\n",
    "line_eq = \"y = \" + str(round(slope,2)) + \"x + \" + str(round(intercept,2))\n",
    "plt.plot(x_values,regress_values,\"r-\",color=\"darkgreen\")\n",
    "plt.annotate(line_eq,(25,10),fontsize=15,color=\"darkgreen\")\n",
    "\n",
    "plt.title(\"Northern Hemisphere \\n City Latitude vs. Wind Speed (11/16/20)\")\n",
    "plt.xlabel(\"Latitude\")\n",
    "plt.ylabel(\"Wind Speed (mph)\")\n",
    "\n",
    "print(\"The r value is: \" + str(rvalue))\n",
    "plt.savefig(\"Weatherpy Documents/Northern Hemisphere City Latitude vs Wind Speed.png\")\n",
    "plt.show()"
   ]
  },
  {
   "cell_type": "markdown",
   "metadata": {},
   "source": [
    "####  Southern Hemisphere - Wind Speed (mph) vs. Latitude Linear Regression"
   ]
  },
  {
   "cell_type": "code",
   "execution_count": 37,
   "metadata": {},
   "outputs": [
    {
     "name": "stdout",
     "output_type": "stream",
     "text": [
      "The r value is: 0.2352070028897526\n"
     ]
    },
    {
     "data": {
      "image/png": "[encoded data removed]",
      "text/plain": [
       "<Figure size 432x288 with 1 Axes>"
      ]
     },
     "metadata": {
      "needs_background": "light"
     },
     "output_type": "display_data"
    }
   ],
   "source": [
    "plt.scatter(south_df[\"Latitude\"], south_df[\"Wind Speed\"], color=\"forestgreen\", edgecolor=\"darkgreen\", alpha=0.75)\n",
    "\n",
    "x_values = south_df[\"Latitude\"]\n",
    "y_values = south_df[\"Wind Speed\"]\n",
    "\n",
    "(slope, intercept, rvalue, pvalue, stderr) = linregress(x_values, y_values)\n",
    "regress_values = x_values * slope + intercept\n",
    "\n",
    "line_eq = \"y = \" + str(round(slope,2)) + \"x + \" + str(round(intercept,2))\n",
    "plt.plot(x_values,regress_values,\"r-\",color=\"darkgreen\")\n",
    "plt.annotate(line_eq,(-55,5),fontsize=15,color=\"darkgreen\")\n",
    "\n",
    "plt.title(\"Southern Hemisphere \\n City Latitude vs. Wind Speed (11/16/20)\")\n",
    "plt.xlabel(\"Latitude\")\n",
    "plt.ylabel(\"Wind Speed (mph)\")\n",
    "\n",
    "print(\"The r value is: \" + str(rvalue))\n",
    "plt.savefig(\"Weatherpy Documents/Southern Hemisphere City Latitude vs Wind Speed.png\")\n",
    "plt.show()"
   ]
  },
  {
   "cell_type": "code",
   "execution_count": null,
   "metadata": {},
   "outputs": [],
   "source": []
  }
 ],
 "metadata": {
  "anaconda-cloud": {},
  "kernel_info": {
   "name": "python3"
  },
  "kernelspec": {
   "display_name": "Python 3",
   "language": "python",
   "name": "python3"
  },
  "language_info": {
   "codemirror_mode": {
    "name": "ipython",
    "version": 3
   },
   "file_extension": ".py",
   "mimetype": "text/x-python",
   "name": "python",
   "nbconvert_exporter": "python",
   "pygments_lexer": "ipython3",
   "version": "3.6.10"
  },
  "latex_envs": {
   "LaTeX_envs_menu_present": true,
   "autoclose": false,
   "autocomplete": true,
   "bibliofile": "biblio.bib",
   "cite_by": "apalike",
   "current_citInitial": 1,
   "eqLabelWithNumbers": true,
   "eqNumInitial": 1,
   "hotkeys": {
    "equation": "Ctrl-E",
    "itemize": "Ctrl-I"
   },
   "labels_anchors": false,
   "latex_user_defs": false,
   "report_style_numbering": false,
   "user_envs_cfg": false
  },
  "nteract": {
   "version": "0.12.3"
  }
 },
 "nbformat": 4,
 "nbformat_minor": 2
}
