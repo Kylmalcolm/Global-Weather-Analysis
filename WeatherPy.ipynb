{
 "cells": [
  {
   "cell_type": "markdown",
   "metadata": {},
   "source": [
    "# WeatherPy\n",
    "----\n",
    "\n",
    "#### Note\n",
    "* Instructions have been included for each segment. You do not have to follow them exactly, but they are included to help you think through the steps."
   ]
  },
  {
   "cell_type": "code",
   "execution_count": 1,
   "metadata": {
    "scrolled": true
   },
   "outputs": [],
   "source": [
    "import pandas as pd\n",
    "import numpy as np\n",
    "import math as math\n",
    "import matplotlib.pyplot as plt\n",
    "from scipy.stats import linregress\n",
    "import time\n",
    "import requests\n",
    "import json\n",
    "import random\n",
    "\n",
    "from citipy import citipy\n",
    "\n",
    "from api_keys import weather_api_key\n",
    "\n",
    "base_url = \"http://api.openweathermap.org/data/2.5/weather?q=\""
   ]
  },
  {
   "cell_type": "markdown",
   "metadata": {},
   "source": [
    "## Generate Cities List"
   ]
  },
  {
   "cell_type": "code",
   "execution_count": 2,
   "metadata": {},
   "outputs": [
    {
     "name": "stdout",
     "output_type": "stream",
     "text": [
      "577\n"
     ]
    }
   ],
   "source": [
    "coordinates = []\n",
    "cities = []\n",
    "\n",
    "longitude = np.random.uniform(-180, 180, size=1500)\n",
    "latitude = np.random.uniform(-90, 90, size=1500)\n",
    "\n",
    "coordinates = zip(latitude, longitude)\n",
    "\n",
    "for coordinate in coordinates:\n",
    "    city_coordinates = citipy.nearest_city(coordinate[0],coordinate[1]).city_name\n",
    "    if city_coordinates not in cities:\n",
    "        cities.append(city_coordinates)\n",
    "        \n",
    "print(len(cities))"
   ]
  },
  {
   "cell_type": "markdown",
   "metadata": {},
   "source": [
    "### Perform API Calls\n",
    "* Perform a weather check on each city using a series of successive API calls.\n",
    "* Include a print log of each city as it'sbeing processed (with the city number and city name).\n"
   ]
  },
  {
   "cell_type": "code",
   "execution_count": 6,
   "metadata": {
    "scrolled": true
   },
   "outputs": [
    {
     "name": "stdout",
     "output_type": "stream",
     "text": [
      "-----------------------------\n",
      "Beginning Data Retrieval\n",
      "-----------------------------\n",
      "Processing Record 1 of Set 1 | mataura\n",
      "Processing Record 2 of Set 1 | port-cartier\n",
      "Processing Record 3 of Set 1 | castro\n",
      "The city of taolanaro not found. Skipping...\n",
      "The city of illoqqortoormiut not found. Skipping...\n",
      "Processing Record 6 of Set 1 | ushuaia\n",
      "Processing Record 7 of Set 1 | mar del plata\n",
      "Processing Record 8 of Set 1 | aklavik\n",
      "Processing Record 9 of Set 1 | rikitea\n",
      "Processing Record 10 of Set 1 | ilulissat\n",
      "Processing Record 11 of Set 1 | mezen\n",
      "Processing Record 12 of Set 1 | tananger\n"
     ]
    },
    {
     "ename": "KeyboardInterrupt",
     "evalue": "",
     "output_type": "error",
     "traceback": [
      "\u001b[1;31m---------------------------------------------------------------------------\u001b[0m",
      "\u001b[1;31mKeyboardInterrupt\u001b[0m                         Traceback (most recent call last)",
      "\u001b[1;32m<ipython-input-6-7e26d6af0266>\u001b[0m in \u001b[0;36m<module>\u001b[1;34m\u001b[0m\n\u001b[0;32m     18\u001b[0m \u001b[1;32mfor\u001b[0m \u001b[0mcity\u001b[0m \u001b[1;32min\u001b[0m \u001b[0mcities\u001b[0m\u001b[1;33m:\u001b[0m\u001b[1;33m\u001b[0m\u001b[1;33m\u001b[0m\u001b[0m\n\u001b[0;32m     19\u001b[0m \u001b[1;33m\u001b[0m\u001b[0m\n\u001b[1;32m---> 20\u001b[1;33m     \u001b[0mtime\u001b[0m\u001b[1;33m.\u001b[0m\u001b[0msleep\u001b[0m\u001b[1;33m(\u001b[0m\u001b[1;36m1.25\u001b[0m\u001b[1;33m)\u001b[0m\u001b[1;33m\u001b[0m\u001b[1;33m\u001b[0m\u001b[0m\n\u001b[0m\u001b[0;32m     21\u001b[0m \u001b[1;33m\u001b[0m\u001b[0m\n\u001b[0;32m     22\u001b[0m     \u001b[0mquery_url\u001b[0m \u001b[1;33m=\u001b[0m \u001b[1;34mf\"{base_url}{city}&units=imperial&appid={weather_api_key}\"\u001b[0m\u001b[1;33m\u001b[0m\u001b[1;33m\u001b[0m\u001b[0m\n",
      "\u001b[1;31mKeyboardInterrupt\u001b[0m: "
     ]
    }
   ],
   "source": [
    "record_count = 0\n",
    "set_count = 0\n",
    "\n",
    "city_name = []\n",
    "lat = []\n",
    "lng = []\n",
    "max_temp = []\n",
    "humidity = []\n",
    "clouds = []\n",
    "wind_speed = []\n",
    "country = []\n",
    "date = []\n",
    "\n",
    "print(\"-----------------------------\")\n",
    "print(\"Beginning Data Retrieval\")\n",
    "print(\"-----------------------------\")\n",
    "\n",
    "for city in cities:\n",
    "    \n",
    "    time.sleep(1.25)\n",
    "    \n",
    "    query_url = f\"{base_url}{city}&units=imperial&appid={weather_api_key}\"\n",
    "\n",
    "    weather_response = requests.get(query_url)\n",
    "    weather_json = weather_response.json()\n",
    "    \n",
    "    try:\n",
    "        set_count = 1 + math.floor((record_count/50))\n",
    "        record_count = record_count + 1\n",
    "        \n",
    "        city_name.append(weather_json[\"name\"])\n",
    "        lat.append(weather_json[\"coord\"][\"lat\"])\n",
    "        lng.append(weather_json[\"coord\"][\"lon\"])\n",
    "        max_temp.append(weather_json[\"main\"][\"temp_max\"])\n",
    "        humidity.append(weather_json[\"main\"][\"humidity\"])\n",
    "        clouds.append(weather_json[\"clouds\"][\"all\"])\n",
    "        wind_speed.append(weather_json[\"wind\"][\"speed\"])\n",
    "        country.append(weather_json[\"sys\"][\"country\"])\n",
    "        date.append(weather_json[\"dt\"])\n",
    "        \n",
    "        print(\"Processing Record \" + str(record_count) + \" of Set \" + str(set_count) + \" | \" + city)\n",
    "        \n",
    "    except:\n",
    "        print(\"The city of \" + city + \" not found. Skipping...\")\n",
    "        \n",
    "print(\"-----------------------------\")\n",
    "print(\"Data Retrieval Complete\")\n",
    "print(\"-----------------------------\")"
   ]
  },
  {
   "cell_type": "markdown",
   "metadata": {},
   "source": [
    "### Convert Raw Data to DataFrame\n",
    "* Export the city data into a .csv.\n",
    "* Display the DataFrame"
   ]
  },
  {
   "cell_type": "code",
   "execution_count": null,
   "metadata": {},
   "outputs": [],
   "source": [
    "weather_df = pd.DataFrame({'City':city_name, 'Latitude':lat, 'Longitude': lng, 'Max Temperature': max_temp,\n",
    "                          'Humidity':humidity, 'Cloudiness': clouds, 'Wind Speed': wind_speed, 'Country':country, \"Date\":date})\n",
    "\n",
    "weather_df[[\"Humidity\", \"Cloudiness\"]] = weather_df[[\"Humidity\", \"Cloudiness\"]].apply(pd.to_numeric)\n",
    "\n",
    "weather_df.to_csv(r'C:\\Users\\kylie\\OneDrive\\Desktop\\uofm-stp-data-pt-09-2020-u-c\\02-Homework\\06-Python-APIs\\python-api-challenge\\Weatherpy Documents\\weather_df.csv')\n",
    "\n",
    "weather_df"
   ]
  },
  {
   "cell_type": "code",
   "execution_count": null,
   "metadata": {},
   "outputs": [],
   "source": [
    "weather_df.describe()"
   ]
  },
  {
   "cell_type": "markdown",
   "metadata": {},
   "source": [
    "## Inspect the data and remove the cities where the humidity > 100%.\n",
    "----\n",
    "Skip this step if there are no cities that have humidity > 100%. "
   ]
  },
  {
   "cell_type": "code",
   "execution_count": null,
   "metadata": {},
   "outputs": [],
   "source": [
    "high_humidity = weather_df.loc[weather_df[\"Humidity\"] > 100]\n",
    "high_humidity"
   ]
  },
  {
   "cell_type": "code",
   "execution_count": null,
   "metadata": {},
   "outputs": [],
   "source": [
    "#  Get the indices of cities that have humidity over 100%.\n"
   ]
  },
  {
   "cell_type": "code",
   "execution_count": null,
   "metadata": {},
   "outputs": [],
   "source": [
    "# Make a new DataFrame equal to the city data to drop all humidity outliers by index.\n",
    "# Passing \"inplace=False\" will make a copy of the city_data DataFrame, which we call \"clean_city_data\".\n"
   ]
  },
  {
   "cell_type": "markdown",
   "metadata": {},
   "source": [
    "## Plotting the Data\n",
    "* Use proper labeling of the plots using plot titles (including date of analysis) and axes labels.\n",
    "* Save the plotted figures as .pngs."
   ]
  },
  {
   "cell_type": "markdown",
   "metadata": {},
   "source": [
    "## Latitude vs. Temperature Plot"
   ]
  },
  {
   "cell_type": "code",
   "execution_count": null,
   "metadata": {
    "scrolled": true
   },
   "outputs": [],
   "source": [
    "plt.scatter(weather_df[\"Latitude\"], weather_df[\"Max Temperature\"], color=\"lightcoral\", edgecolor=\"maroon\", alpha=0.75)\n",
    "plt.title(\"City Latitude vs. Max Temperature (11/16/20)\")\n",
    "plt.xlabel(\"Latitude\")\n",
    "plt.ylabel(\"Max Temperature (F)\")\n",
    "plt.grid()\n",
    "plt.savefig(\"Weatherpy Documents/City Latitude vs Max Temperature.png\")\n",
    "plt.show()"
   ]
  },
  {
   "cell_type": "markdown",
   "metadata": {},
   "source": [
    "## Latitude vs. Humidity Plot"
   ]
  },
  {
   "cell_type": "code",
   "execution_count": null,
   "metadata": {},
   "outputs": [],
   "source": [
    "plt.scatter(weather_df[\"Latitude\"], weather_df[\"Humidity\"], color=\"cadetblue\", edgecolor=\"darkslategray\", alpha=0.75)\n",
    "plt.title(\"City Latitude vs. Humidity (11/16/20)\")\n",
    "plt.xlabel(\"Latitude\")\n",
    "plt.ylabel(\"Humidity (%)\")\n",
    "plt.grid()\n",
    "plt.savefig(\"Weatherpy Documents/City Latitude vs Humidity.png\")\n",
    "plt.show()"
   ]
  },
  {
   "cell_type": "markdown",
   "metadata": {},
   "source": [
    "## Latitude vs. Cloudiness Plot"
   ]
  },
  {
   "cell_type": "code",
   "execution_count": null,
   "metadata": {},
   "outputs": [],
   "source": [
    "plt.scatter(weather_df[\"Latitude\"], weather_df[\"Cloudiness\"], color=\"teal\", edgecolor=\"darkblue\", alpha=0.75)\n",
    "plt.title(\"City Latitude vs. Cloudiness (11/16/20)\")\n",
    "plt.xlabel(\"Latitude\")\n",
    "plt.ylabel(\"Cloudiness (%)\")\n",
    "plt.grid()\n",
    "plt.savefig(\"Weatherpy Documents/City Latitude vs Cloudiness.png\")\n",
    "plt.show()"
   ]
  },
  {
   "cell_type": "markdown",
   "metadata": {},
   "source": [
    "## Latitude vs. Wind Speed Plot"
   ]
  },
  {
   "cell_type": "code",
   "execution_count": null,
   "metadata": {},
   "outputs": [],
   "source": [
    "plt.scatter(weather_df[\"Latitude\"], weather_df[\"Wind Speed\"], color=\"forestgreen\", edgecolor=\"darkgreen\", alpha=0.75)\n",
    "plt.title(\"City Latitude vs. Wind Speed (11/16/20)\")\n",
    "plt.xlabel(\"Latitude\")\n",
    "plt.ylabel(\"Wind Speed (mph)\")\n",
    "plt.grid()\n",
    "plt.savefig(\"Weatherpy Documents/City Latitude vs Wind Speed.png\")\n",
    "plt.show()"
   ]
  },
  {
   "cell_type": "markdown",
   "metadata": {},
   "source": [
    "## Linear Regression"
   ]
  },
  {
   "cell_type": "code",
   "execution_count": null,
   "metadata": {},
   "outputs": [],
   "source": [
    "# Dataframe for Northern Hemisphere (greater than or equal to 0 degrees latitude)\n",
    "north_df = weather_df.loc[weather_df[\"Latitude\"] >= 0]\n",
    "\n",
    "# Dataframe for Southern Hemisphere (less than 0 degrees latitude)\n",
    "south_df = weather_df.loc[weather_df[\"Latitude\"] < 0]"
   ]
  },
  {
   "cell_type": "markdown",
   "metadata": {},
   "source": [
    "####  Northern Hemisphere - Max Temp vs. Latitude Linear Regression"
   ]
  },
  {
   "cell_type": "code",
   "execution_count": null,
   "metadata": {},
   "outputs": [],
   "source": [
    "plt.scatter(north_df[\"Latitude\"], north_df[\"Max Temperature\"], color=\"lightcoral\", edgecolor=\"maroon\", alpha=0.75)\n",
    "\n",
    "x_values = north_df[\"Latitude\"]\n",
    "y_values = north_df[\"Max Temperature\"]\n",
    "\n",
    "(slope, intercept, rvalue, pvalue, stderr) = linregress(x_values, y_values)\n",
    "regress_values = x_values * slope + intercept\n",
    "\n",
    "line_eq = \"y = \" + str(round(slope,2)) + \"x + \" + str(round(intercept,2))\n",
    "plt.plot(x_values,regress_values,\"r-\",color=\"maroon\")\n",
    "plt.annotate(line_eq,(45,25),fontsize=15,color=\"maroon\")\n",
    "\n",
    "plt.title(\"Northern Hemisphere \\n City Latitude vs. Max Temperature (11/16/20)\")\n",
    "plt.xlabel(\"Latitude\")\n",
    "plt.ylabel(\"Max Temperature (F)\")\n",
    "\n",
    "print(\"The r value is: \" + str(rvalue))\n",
    "plt.savefig(\"Weatherpy Documents/Northern Hemisphere City Latitude vs Max Temperature.png\")\n",
    "plt.show()"
   ]
  },
  {
   "cell_type": "markdown",
   "metadata": {},
   "source": [
    "####  Southern Hemisphere - Max Temp vs. Latitude Linear Regression"
   ]
  },
  {
   "cell_type": "code",
   "execution_count": null,
   "metadata": {},
   "outputs": [],
   "source": [
    "plt.scatter(south_df[\"Latitude\"], south_df[\"Max Temperature\"], color=\"lightcoral\", edgecolor=\"maroon\", alpha=0.75)\n",
    "\n",
    "x_values = south_df[\"Latitude\"]\n",
    "y_values = south_df[\"Max Temperature\"]\n",
    "\n",
    "(slope, intercept, rvalue, pvalue, stderr) = linregress(x_values, y_values)\n",
    "regress_values = x_values * slope + intercept\n",
    "\n",
    "line_eq = \"y = \" + str(round(slope,2)) + \"x + \" + str(round(intercept,2))\n",
    "plt.plot(x_values,regress_values,\"r-\",color=\"maroon\")\n",
    "plt.annotate(line_eq,(-45,40),fontsize=15,color=\"maroon\")\n",
    "\n",
    "plt.title(\"Southern Hemisphere \\n City Latitude vs. Max Temperature (11/16/20)\")\n",
    "plt.xlabel(\"Latitude\")\n",
    "plt.ylabel(\"Max Temperature (F)\")\n",
    "\n",
    "print(\"The r value is: \" + str(rvalue))\n",
    "plt.savefig(\"Weatherpy Documents/Southern Hemisphere City Latitude vs Max Temperature.png\")\n",
    "plt.show()"
   ]
  },
  {
   "cell_type": "markdown",
   "metadata": {},
   "source": [
    "####  Northern Hemisphere - Humidity (%) vs. Latitude Linear Regression"
   ]
  },
  {
   "cell_type": "code",
   "execution_count": null,
   "metadata": {},
   "outputs": [],
   "source": [
    "plt.scatter(north_df[\"Latitude\"], north_df[\"Humidity\"], color=\"cadetblue\", edgecolor=\"darkslategray\", alpha=0.75)\n",
    "\n",
    "x_values = north_df[\"Latitude\"]\n",
    "y_values = north_df[\"Humidity\"]\n",
    "\n",
    "(slope, intercept, rvalue, pvalue, stderr) = linregress(x_values, y_values)\n",
    "regress_values = x_values * slope + intercept\n",
    "\n",
    "line_eq = \"y = \" + str(round(slope,2)) + \"x + \" + str(round(intercept,2))\n",
    "plt.plot(x_values,regress_values,\"r-\",color=\"darkslategray\")\n",
    "plt.annotate(line_eq,(25,90),fontsize=15,color=\"darkslategray\")\n",
    "\n",
    "plt.title(\"Northern Hemisphere \\n City Latitude vs. Humidity (11/16/20)\")\n",
    "plt.xlabel(\"Latitude\")\n",
    "plt.ylabel(\"Humidity (%)\")\n",
    "\n",
    "print(\"The r value is: \" + str(rvalue))\n",
    "plt.savefig(\"Weatherpy Documents/Northern Hemisphere City Latitude vs Humidity.png\")\n",
    "plt.show()"
   ]
  },
  {
   "cell_type": "markdown",
   "metadata": {},
   "source": [
    "####  Southern Hemisphere - Humidity (%) vs. Latitude Linear Regression"
   ]
  },
  {
   "cell_type": "code",
   "execution_count": null,
   "metadata": {},
   "outputs": [],
   "source": [
    "plt.scatter(south_df[\"Latitude\"], south_df[\"Humidity\"], color=\"cadetblue\", edgecolor=\"darkslategray\", alpha=0.75)\n",
    "\n",
    "x_values = south_df[\"Latitude\"]\n",
    "y_values = south_df[\"Humidity\"]\n",
    "\n",
    "(slope, intercept, rvalue, pvalue, stderr) = linregress(x_values, y_values)\n",
    "regress_values = x_values * slope + intercept\n",
    "\n",
    "line_eq = \"y = \" + str(round(slope,2)) + \"x + \" + str(round(intercept,2))\n",
    "plt.plot(x_values,regress_values,\"r-\",color=\"darkslategray\")\n",
    "plt.annotate(line_eq,(-55,60),fontsize=15,color=\"darkslategray\")\n",
    "\n",
    "plt.title(\"Southern Hemisphere \\n City Latitude vs. Humidity (11/16/20)\")\n",
    "plt.xlabel(\"Latitude\")\n",
    "plt.ylabel(\"Humidity (%)\")\n",
    "\n",
    "print(\"The r value is: \" + str(rvalue))\n",
    "plt.savefig(\"Weatherpy Documents/Southern Hemisphere City Latitude vs Humidity.png\")\n",
    "plt.show()"
   ]
  },
  {
   "cell_type": "markdown",
   "metadata": {},
   "source": [
    "####  Northern Hemisphere - Cloudiness (%) vs. Latitude Linear Regression"
   ]
  },
  {
   "cell_type": "code",
   "execution_count": null,
   "metadata": {},
   "outputs": [],
   "source": [
    "plt.scatter(north_df[\"Latitude\"], north_df[\"Cloudiness\"], color=\"teal\", edgecolor=\"darkblue\", alpha=0.75)\n",
    "\n",
    "x_values = north_df[\"Latitude\"]\n",
    "y_values = north_df[\"Cloudiness\"]\n",
    "\n",
    "(slope, intercept, rvalue, pvalue, stderr) = linregress(x_values, y_values)\n",
    "regress_values = x_values * slope + intercept\n",
    "\n",
    "line_eq = \"y = \" + str(round(slope,2)) + \"x + \" + str(round(intercept,2))\n",
    "plt.plot(x_values,regress_values,\"r-\",color=\"darkblue\")\n",
    "plt.annotate(line_eq,(25,80),fontsize=15,color=\"darkblue\")\n",
    "\n",
    "plt.title(\"Northern Hemisphere \\n City Latitude vs. Cloudiness (11/16/20)\")\n",
    "plt.xlabel(\"Latitude\")\n",
    "plt.ylabel(\"Cloudiness (%)\")\n",
    "\n",
    "print(\"The r value is: \" + str(rvalue))\n",
    "plt.savefig(\"Weatherpy Documents/Northern Hemisphere City Latitude vs Cloudiness.png\")\n",
    "plt.show()"
   ]
  },
  {
   "cell_type": "markdown",
   "metadata": {},
   "source": [
    "####  Southern Hemisphere - Cloudiness (%) vs. Latitude Linear Regression"
   ]
  },
  {
   "cell_type": "code",
   "execution_count": null,
   "metadata": {},
   "outputs": [],
   "source": [
    "plt.scatter(south_df[\"Latitude\"], south_df[\"Cloudiness\"], color=\"teal\", edgecolor=\"darkblue\", alpha=0.75)\n",
    "\n",
    "x_values = south_df[\"Latitude\"]\n",
    "y_values = south_df[\"Cloudiness\"]\n",
    "\n",
    "(slope, intercept, rvalue, pvalue, stderr) = linregress(x_values, y_values)\n",
    "regress_values = x_values * slope + intercept\n",
    "\n",
    "line_eq = \"y = \" + str(round(slope,2)) + \"x + \" + str(round(intercept,2))\n",
    "plt.plot(x_values,regress_values,\"r-\",color=\"darkblue\")\n",
    "plt.annotate(line_eq,(-55,20),fontsize=15,color=\"darkblue\")\n",
    "\n",
    "plt.title(\"Southern Hemisphere \\n City Latitude vs. Cloudiness (11/16/20)\")\n",
    "plt.xlabel(\"Latitude\")\n",
    "plt.ylabel(\"Cloudiness (%)\")\n",
    "\n",
    "print(\"The r value is: \" + str(rvalue))\n",
    "plt.savefig(\"Weatherpy Documents/Southern Hemisphere City Latitude vs Cloudiness.png\")\n",
    "plt.show()"
   ]
  },
  {
   "cell_type": "markdown",
   "metadata": {},
   "source": [
    "####  Northern Hemisphere - Wind Speed (mph) vs. Latitude Linear Regression"
   ]
  },
  {
   "cell_type": "code",
   "execution_count": null,
   "metadata": {},
   "outputs": [],
   "source": [
    "plt.scatter(north_df[\"Latitude\"], north_df[\"Wind Speed\"], color=\"forestgreen\", edgecolor=\"darkgreen\", alpha=0.75)\n",
    "\n",
    "x_values = north_df[\"Latitude\"]\n",
    "y_values = north_df[\"Wind Speed\"]\n",
    "\n",
    "(slope, intercept, rvalue, pvalue, stderr) = linregress(x_values, y_values)\n",
    "regress_values = x_values * slope + intercept\n",
    "\n",
    "line_eq = \"y = \" + str(round(slope,2)) + \"x + \" + str(round(intercept,2))\n",
    "plt.plot(x_values,regress_values,\"r-\",color=\"darkgreen\")\n",
    "plt.annotate(line_eq,(25,10),fontsize=15,color=\"darkgreen\")\n",
    "\n",
    "plt.title(\"Northern Hemisphere \\n City Latitude vs. Wind Speed (11/16/20)\")\n",
    "plt.xlabel(\"Latitude\")\n",
    "plt.ylabel(\"Wind Speed (mph)\")\n",
    "\n",
    "print(\"The r value is: \" + str(rvalue))\n",
    "plt.savefig(\"Weatherpy Documents/Northern Hemisphere City Latitude vs Wind Speed.png\")\n",
    "plt.show()"
   ]
  },
  {
   "cell_type": "markdown",
   "metadata": {},
   "source": [
    "####  Southern Hemisphere - Wind Speed (mph) vs. Latitude Linear Regression"
   ]
  },
  {
   "cell_type": "code",
   "execution_count": null,
   "metadata": {},
   "outputs": [],
   "source": [
    "plt.scatter(south_df[\"Latitude\"], south_df[\"Wind Speed\"], color=\"forestgreen\", edgecolor=\"darkgreen\", alpha=0.75)\n",
    "\n",
    "x_values = south_df[\"Latitude\"]\n",
    "y_values = south_df[\"Wind Speed\"]\n",
    "\n",
    "(slope, intercept, rvalue, pvalue, stderr) = linregress(x_values, y_values)\n",
    "regress_values = x_values * slope + intercept\n",
    "\n",
    "line_eq = \"y = \" + str(round(slope,2)) + \"x + \" + str(round(intercept,2))\n",
    "plt.plot(x_values,regress_values,\"r-\",color=\"darkgreen\")\n",
    "plt.annotate(line_eq,(-55,5),fontsize=15,color=\"darkgreen\")\n",
    "\n",
    "plt.title(\"Southern Hemisphere \\n City Latitude vs. Wind Speed (11/16/20)\")\n",
    "plt.xlabel(\"Latitude\")\n",
    "plt.ylabel(\"Wind Speed (mph)\")\n",
    "\n",
    "print(\"The r value is: \" + str(rvalue))\n",
    "plt.savefig(\"Weatherpy Documents/Southern Hemisphere City Latitude vs Wind Speed.png\")\n",
    "plt.show()"
   ]
  },
  {
   "cell_type": "code",
   "execution_count": null,
   "metadata": {},
   "outputs": [],
   "source": []
  }
 ],
 "metadata": {
  "anaconda-cloud": {},
  "kernel_info": {
   "name": "python3"
  },
  "kernelspec": {
   "display_name": "Python 3",
   "language": "python",
   "name": "python3"
  },
  "language_info": {
   "codemirror_mode": {
    "name": "ipython",
    "version": 3
   },
   "file_extension": ".py",
   "mimetype": "text/x-python",
   "name": "python",
   "nbconvert_exporter": "python",
   "pygments_lexer": "ipython3",
   "version": "3.6.10"
  },
  "latex_envs": {
   "LaTeX_envs_menu_present": true,
   "autoclose": false,
   "autocomplete": true,
   "bibliofile": "biblio.bib",
   "cite_by": "apalike",
   "current_citInitial": 1,
   "eqLabelWithNumbers": true,
   "eqNumInitial": 1,
   "hotkeys": {
    "equation": "Ctrl-E",
    "itemize": "Ctrl-I"
   },
   "labels_anchors": false,
   "latex_user_defs": false,
   "report_style_numbering": false,
   "user_envs_cfg": false
  },
  "nteract": {
   "version": "0.12.3"
  }
 },
 "nbformat": 4,
 "nbformat_minor": 2
}
